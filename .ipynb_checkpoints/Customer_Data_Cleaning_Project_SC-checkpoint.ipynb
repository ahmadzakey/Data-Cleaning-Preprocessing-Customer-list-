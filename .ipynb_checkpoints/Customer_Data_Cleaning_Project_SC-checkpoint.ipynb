{
 "cells": [
  {
   "attachments": {},
   "cell_type": "markdown",
   "metadata": {
    "id": "KhFxDA8C3DCy"
   },
   "source": [
    "<img src=\"images/Peoplelogy-Logo.png\" height=100 align=left>\n",
    "<img src=\"images/python-logo.png\" height=100 align=right>"
   ]
  },
  {
   "attachments": {},
   "cell_type": "markdown",
   "metadata": {
    "id": "H1EBGU3D3KK0"
   },
   "source": [
    "### Jupyter short keys\n",
    "\n",
    "These are the most common used short keys:\n",
    "\n",
    "- Esc + a -- Open a new cell above\n",
    "- Esc + b -- Open a new cell below\n",
    "- Shift + Enter -- Run the cell, and go to next one\n",
    "- Ctrl + Enter -- Run the cell and stay there\n",
    "- Alt + Enter -- Run the cell, and make a new one (Option-key for Mac)\n",
    "- Ctrl + / -- Comment or Uncomment your selection\n",
    "- Esc + m -- Change cell type into Markdown (text modus). Then run again with Crtl+Enter\n",
    "- Esc + y -- Change cell type into Code (code modus). Then run again with Crtl+Enter\n",
    "\n",
    "Let's try them out and get familiar."
   ]
  },
  {
   "attachments": {},
   "cell_type": "markdown",
   "metadata": {
    "id": "zmlLhbxH3DC2"
   },
   "source": [
    "\n",
    "<img src=\"images/Data_Cleaning.png\"  align=left>"
   ]
  },
  {
   "attachments": {},
   "cell_type": "markdown",
   "metadata": {
    "id": "TJpzm_0t3DC2"
   },
   "source": [
    "## **Project Overview: Customer Data Cleaning, Analysis, and Visualization**\n",
    "\n",
    "In this project, you will work with a customer dataset and perform various **data cleaning**, **analysis**, and **visualization** tasks. The goal is to clean and standardize the data, conduct basic analysis, and visualize key trends and relationships in the data.\n",
    "\n",
    "### **Objectives**:\n",
    "- **Data Cleaning**: Handle missing values, standardize columns, fix inconsistencies, and remove duplicates.\n",
    "- **Data Analysis**: Perform basic calculations such as total revenue and find insights from the dataset (e.g., average customer age).\n",
    "- **Data Visualization**: Create visualizations using Seaborn to explore trends and relationships between different variables.\n",
    "\n",
    "### **Dataset Overview**:\n",
    "The dataset contains customer information with the following key columns:\n",
    "- `CustomerID`: Unique identifier for each customer.\n",
    "- `Name`: Name of the customer.\n",
    "- `Phone_Number`: Contact number of the customer (may contain inconsistencies).\n",
    "- `Email`: Email address of the customer (may contain missing values).\n",
    "- `Department`: The department where the customer is associated.\n",
    "- `Experience`: Number of years of experience of the customer.\n",
    "- `Age`: Age of the customer (may contain unrealistic values).\n",
    "- `Registration_Date`: Date when the customer registered (may have inconsistent formats).\n",
    "- `Customer_Type`: Type of customer (e.g., Individual, VIP) with potential typos.\n",
    "- `Total_Purchases`: Number of purchases made by the customer (may contain missing values).\n",
    "- `Last_Purchase_Amount`: Amount spent on the last purchase (may contain dollar signs and commas).\n",
    "- `Feedback_Score`: Customer feedback score on a scale of 1-10 (may contain missing values).\n",
    "- `Gender`: Gender of the customer (may contain inconsistent values).\n",
    "\n",
    "### **Project Structure**:\n",
    "\n",
    "1. **Data Cleaning Tasks**:  \n",
    "   You will handle missing data, standardize columns, remove duplicates, and correct inconsistencies in various columns such as `Phone_Number`, `Gender`, `Customer_Type`, and `Last_Purchase_Amount`.\n",
    "\n",
    "2. **Data Analysis**:  \n",
    "   Perform analysis tasks such as calculating total revenue per customer and determining the average age of high-satisfaction customers.\n",
    "\n",
    "3. **Data Visualization**:  \n",
    "   Create visualizations to explore trends in the dataset, such as the distribution of customer ages, the relationship between age and total purchases, and the average number of purchases by customer type.\n",
    "\n",
    "---\n",
    "\n",
    "### **Instructions**:\n",
    "- Each question is structured step by step. Follow the instructions for each task and write your code in the provided cells.\n",
    "- Be sure to run each cell after writing your solution.\n",
    "- For visualization tasks, use **Seaborn** and **Matplotlib** to create the required plots.\n",
    "\n",
    "---\n",
    "\n",
    "### **Good Luck!**\n",
    "\n",
    "This project will give you practical experience with data cleaning, analysis, and visualization in Python. You will learn how to handle real-world messy data and extract meaningful insights from it."
   ]
  },
  {
   "cell_type": "markdown",
   "metadata": {},
   "source": [
    "### Data Storage Notes\n",
    "1. **`df`**: Original dataset loaded.  \n",
    "2. **`df1`**: Removed duplicates, changed `CustomerID` to `object`, corrected `Last_Purchase_Amount` to `float`, handled missing `Last_Name` & `Phone_Number`.  \n",
    "3. **`df2`**: Updates from `df1` + fixed and standardized `Phone_Number`, `Last_Name`, `Last_Purchase_Amount`, handled missing `Total_Purchases` with mean.  \n",
    "4. **`df3`**: Updates from `df1` & `df2` + converted `Last_Purchase_Amount` to `float`, handled missing `Last_Purchase_Amount` & `Feedback_Score` with mean, standardized `Gender`.  \n",
    "5. **`df_cleaned`**: All updates from `df1`, `df2`, `df3` + standardized `Registration_Date` format, saved as Excel.  \n",
    "6. **`customer_data`**: Cleaned dataset for analysis (clusters based on `Age`, `Feedback_Score`, `VIP`, `Total_Revenue`) and visualization.  \n",
    "\n",
    "### Other Stored Data\n",
    "- **`missing_phone_numbers`**: Rows with missing `Phone_Number`.  \n",
    "- **`missing_Last_Name`**: Rows with missing `Last_Name`.  \n",
    "- **`missing_Total_Purchases`**: Rows with missing `Total_Purchases`.  \n",
    "- **`missing_Feedback_Score`**: Rows with missing `Feedback_Score`.  \n",
    "- **`missing_Last_Purchase_Amount`**: Rows with missing `Last_Purchase_Amount`.  \n",
    "- **`high_satisfaction_customer`**: Rows with high `Feedback_Score`.  \n",
    "- **`average_age_high_satisfaction`**: Mean age of customers with high `Feedback_Score`.  \n"
   ]
  },
  {
   "attachments": {},
   "cell_type": "markdown",
   "metadata": {},
   "source": [
    "### Import the necessary packages\n"
   ]
  },
  {
   "cell_type": "code",
   "execution_count": 2,
   "metadata": {
    "id": "viah1BQSArvf"
   },
   "outputs": [],
   "source": [
    "import pandas as pd\n",
    "import numpy as np \n",
    "import seaborn as sns \n",
    "import matplotlib.pyplot as plt  "
   ]
  },
  {
   "attachments": {},
   "cell_type": "markdown",
   "metadata": {
    "id": "m6Yubugm3DDB"
   },
   "source": [
    "## **Initial Data Exploration and Understanding**\n",
    "\n",
    "Before jumping into the data cleaning tasks, it’s important to load the dataset, explore its structure, and identify any initial issues.\n",
    "\n",
    "---\n",
    "\n",
    "### **Question 0.1: Load the Dataset**\n",
    "\n",
    "- Load the CSV file into a pandas DataFrame and inspect the first few rows to get an initial understanding of the data.\n",
    "`CSV Name: Call_List.csv`"
   ]
  },
  {
   "cell_type": "code",
   "execution_count": 3,
   "metadata": {
    "id": "QcfLmfTF87Gf"
   },
   "outputs": [
    {
     "data": {
      "text/html": [
       "<div>\n",
       "<style scoped>\n",
       "    .dataframe tbody tr th:only-of-type {\n",
       "        vertical-align: middle;\n",
       "    }\n",
       "\n",
       "    .dataframe tbody tr th {\n",
       "        vertical-align: top;\n",
       "    }\n",
       "\n",
       "    .dataframe thead th {\n",
       "        text-align: right;\n",
       "    }\n",
       "</style>\n",
       "<table border=\"1\" class=\"dataframe\">\n",
       "  <thead>\n",
       "    <tr style=\"text-align: right;\">\n",
       "      <th></th>\n",
       "      <th>CustomerID</th>\n",
       "      <th>First_Name</th>\n",
       "      <th>Last_Name</th>\n",
       "      <th>Phone_Number</th>\n",
       "      <th>Age</th>\n",
       "      <th>Email</th>\n",
       "      <th>Total_Purchases</th>\n",
       "      <th>Last_Purchase_Amount</th>\n",
       "      <th>Gender</th>\n",
       "      <th>Feedback_Score</th>\n",
       "      <th>Registration_Date</th>\n",
       "    </tr>\n",
       "  </thead>\n",
       "  <tbody>\n",
       "    <tr>\n",
       "      <th>0</th>\n",
       "      <td>1001</td>\n",
       "      <td>Frodo</td>\n",
       "      <td>Baggins</td>\n",
       "      <td>123-545-5421</td>\n",
       "      <td>56</td>\n",
       "      <td>frodo.baggins@example.com</td>\n",
       "      <td>5.0</td>\n",
       "      <td>$100.50</td>\n",
       "      <td>M</td>\n",
       "      <td>8.0</td>\n",
       "      <td>03/16/2021</td>\n",
       "    </tr>\n",
       "    <tr>\n",
       "      <th>1</th>\n",
       "      <td>1002</td>\n",
       "      <td>Abed</td>\n",
       "      <td>Nadir</td>\n",
       "      <td>123/643/9775</td>\n",
       "      <td>46</td>\n",
       "      <td>abed.nadir@example.com</td>\n",
       "      <td>3.0</td>\n",
       "      <td>75</td>\n",
       "      <td>F</td>\n",
       "      <td>9.0</td>\n",
       "      <td>01/21/2020</td>\n",
       "    </tr>\n",
       "    <tr>\n",
       "      <th>2</th>\n",
       "      <td>1003</td>\n",
       "      <td>Walter</td>\n",
       "      <td>/White</td>\n",
       "      <td>7066950392</td>\n",
       "      <td>32</td>\n",
       "      <td>walter./white@example.com</td>\n",
       "      <td>7.0</td>\n",
       "      <td>$250.00</td>\n",
       "      <td>Male</td>\n",
       "      <td>6.0</td>\n",
       "      <td>08/13/2021</td>\n",
       "    </tr>\n",
       "    <tr>\n",
       "      <th>3</th>\n",
       "      <td>1004</td>\n",
       "      <td>Dwight</td>\n",
       "      <td>Schrute</td>\n",
       "      <td>123-543-2345</td>\n",
       "      <td>60</td>\n",
       "      <td>dwight.schrute@example.com</td>\n",
       "      <td>NaN</td>\n",
       "      <td>NaN</td>\n",
       "      <td>Female</td>\n",
       "      <td>NaN</td>\n",
       "      <td>10/04/2019</td>\n",
       "    </tr>\n",
       "    <tr>\n",
       "      <th>4</th>\n",
       "      <td>1005</td>\n",
       "      <td>Jon</td>\n",
       "      <td>Snow</td>\n",
       "      <td>876|678|3469</td>\n",
       "      <td>25</td>\n",
       "      <td>jon.snow@example.com</td>\n",
       "      <td>10.0</td>\n",
       "      <td>$500</td>\n",
       "      <td>F</td>\n",
       "      <td>7.0</td>\n",
       "      <td>04/04/2020</td>\n",
       "    </tr>\n",
       "  </tbody>\n",
       "</table>\n",
       "</div>"
      ],
      "text/plain": [
       "   CustomerID First_Name Last_Name  Phone_Number  Age  \\\n",
       "0        1001      Frodo   Baggins  123-545-5421   56   \n",
       "1        1002       Abed     Nadir  123/643/9775   46   \n",
       "2        1003     Walter    /White    7066950392   32   \n",
       "3        1004     Dwight   Schrute  123-543-2345   60   \n",
       "4        1005        Jon      Snow  876|678|3469   25   \n",
       "\n",
       "                        Email  Total_Purchases Last_Purchase_Amount  Gender  \\\n",
       "0   frodo.baggins@example.com              5.0              $100.50       M   \n",
       "1      abed.nadir@example.com              3.0                   75       F   \n",
       "2   walter./white@example.com              7.0              $250.00    Male   \n",
       "3  dwight.schrute@example.com              NaN                  NaN  Female   \n",
       "4        jon.snow@example.com             10.0                 $500       F   \n",
       "\n",
       "   Feedback_Score Registration_Date  \n",
       "0             8.0        03/16/2021  \n",
       "1             9.0        01/21/2020  \n",
       "2             6.0        08/13/2021  \n",
       "3             NaN        10/04/2019  \n",
       "4             7.0        04/04/2020  "
      ]
     },
     "execution_count": 3,
     "metadata": {},
     "output_type": "execute_result"
    }
   ],
   "source": [
    "#Your code here\n",
    "df = pd.read_csv('data/Call_List.csv')\n",
    "df.head()"
   ]
  },
  {
   "attachments": {},
   "cell_type": "markdown",
   "metadata": {},
   "source": [
    "### **Question 0.2: Check Dataset Information**\n",
    "\n",
    "- Use the `.info()` method to check the basic information about the DataFrame, including the column names, non-null counts, and data types.\n"
   ]
  },
  {
   "cell_type": "code",
   "execution_count": 4,
   "metadata": {},
   "outputs": [
    {
     "name": "stdout",
     "output_type": "stream",
     "text": [
      "<class 'pandas.core.frame.DataFrame'>\n",
      "RangeIndex: 21 entries, 0 to 20\n",
      "Data columns (total 11 columns):\n",
      " #   Column                Non-Null Count  Dtype  \n",
      "---  ------                --------------  -----  \n",
      " 0   CustomerID            21 non-null     int64  \n",
      " 1   First_Name            21 non-null     object \n",
      " 2   Last_Name             20 non-null     object \n",
      " 3   Phone_Number          19 non-null     object \n",
      " 4   Age                   21 non-null     int64  \n",
      " 5   Email                 21 non-null     object \n",
      " 6   Total_Purchases       17 non-null     float64\n",
      " 7   Last_Purchase_Amount  17 non-null     object \n",
      " 8   Gender                21 non-null     object \n",
      " 9   Feedback_Score        17 non-null     float64\n",
      " 10  Registration_Date     21 non-null     object \n",
      "dtypes: float64(2), int64(2), object(7)\n",
      "memory usage: 1.9+ KB\n"
     ]
    }
   ],
   "source": [
    "#Your code here\n",
    "df.info()"
   ]
  },
  {
   "attachments": {},
   "cell_type": "markdown",
   "metadata": {},
   "source": [
    "### **Question 0.3: Describe the Dataset**\n",
    "\n",
    "- Use the `.describe()` method to generate descriptive statistics that summarize the central tendency, dispersion, and shape of the dataset's distribution.\n"
   ]
  },
  {
   "cell_type": "code",
   "execution_count": 5,
   "metadata": {},
   "outputs": [
    {
     "data": {
      "text/html": [
       "<div>\n",
       "<style scoped>\n",
       "    .dataframe tbody tr th:only-of-type {\n",
       "        vertical-align: middle;\n",
       "    }\n",
       "\n",
       "    .dataframe tbody tr th {\n",
       "        vertical-align: top;\n",
       "    }\n",
       "\n",
       "    .dataframe thead th {\n",
       "        text-align: right;\n",
       "    }\n",
       "</style>\n",
       "<table border=\"1\" class=\"dataframe\">\n",
       "  <thead>\n",
       "    <tr style=\"text-align: right;\">\n",
       "      <th></th>\n",
       "      <th>CustomerID</th>\n",
       "      <th>Age</th>\n",
       "      <th>Total_Purchases</th>\n",
       "      <th>Feedback_Score</th>\n",
       "    </tr>\n",
       "  </thead>\n",
       "  <tbody>\n",
       "    <tr>\n",
       "      <th>count</th>\n",
       "      <td>21.000000</td>\n",
       "      <td>21.000000</td>\n",
       "      <td>17.000000</td>\n",
       "      <td>17.000000</td>\n",
       "    </tr>\n",
       "    <tr>\n",
       "      <th>mean</th>\n",
       "      <td>1010.952381</td>\n",
       "      <td>41.142857</td>\n",
       "      <td>6.705882</td>\n",
       "      <td>7.176471</td>\n",
       "    </tr>\n",
       "    <tr>\n",
       "      <th>std</th>\n",
       "      <td>6.127611</td>\n",
       "      <td>12.865791</td>\n",
       "      <td>4.426690</td>\n",
       "      <td>2.007339</td>\n",
       "    </tr>\n",
       "    <tr>\n",
       "      <th>min</th>\n",
       "      <td>1001.000000</td>\n",
       "      <td>19.000000</td>\n",
       "      <td>0.000000</td>\n",
       "      <td>3.000000</td>\n",
       "    </tr>\n",
       "    <tr>\n",
       "      <th>25%</th>\n",
       "      <td>1006.000000</td>\n",
       "      <td>32.000000</td>\n",
       "      <td>3.000000</td>\n",
       "      <td>6.000000</td>\n",
       "    </tr>\n",
       "    <tr>\n",
       "      <th>50%</th>\n",
       "      <td>1011.000000</td>\n",
       "      <td>41.000000</td>\n",
       "      <td>6.000000</td>\n",
       "      <td>7.000000</td>\n",
       "    </tr>\n",
       "    <tr>\n",
       "      <th>75%</th>\n",
       "      <td>1016.000000</td>\n",
       "      <td>53.000000</td>\n",
       "      <td>10.000000</td>\n",
       "      <td>9.000000</td>\n",
       "    </tr>\n",
       "    <tr>\n",
       "      <th>max</th>\n",
       "      <td>1020.000000</td>\n",
       "      <td>61.000000</td>\n",
       "      <td>15.000000</td>\n",
       "      <td>10.000000</td>\n",
       "    </tr>\n",
       "  </tbody>\n",
       "</table>\n",
       "</div>"
      ],
      "text/plain": [
       "        CustomerID        Age  Total_Purchases  Feedback_Score\n",
       "count    21.000000  21.000000        17.000000       17.000000\n",
       "mean   1010.952381  41.142857         6.705882        7.176471\n",
       "std       6.127611  12.865791         4.426690        2.007339\n",
       "min    1001.000000  19.000000         0.000000        3.000000\n",
       "25%    1006.000000  32.000000         3.000000        6.000000\n",
       "50%    1011.000000  41.000000         6.000000        7.000000\n",
       "75%    1016.000000  53.000000        10.000000        9.000000\n",
       "max    1020.000000  61.000000        15.000000       10.000000"
      ]
     },
     "execution_count": 5,
     "metadata": {},
     "output_type": "execute_result"
    }
   ],
   "source": [
    "#Your code here\n",
    "df.describe()"
   ]
  },
  {
   "attachments": {},
   "cell_type": "markdown",
   "metadata": {},
   "source": [
    "### **Question 0.4: List the Column Names**\n",
    "\n",
    "- Check the column names in the DataFrame. Are there any columns names that seem unnecessary, incomplete, or that need fixing?\n",
    "\n",
    "```python\n",
    "# List column names\n",
    "df.columns"
   ]
  },
  {
   "cell_type": "code",
   "execution_count": 6,
   "metadata": {},
   "outputs": [
    {
     "data": {
      "text/plain": [
       "Index(['CustomerID', 'First_Name', 'Last_Name', 'Phone_Number', 'Age', 'Email',\n",
       "       'Total_Purchases', 'Last_Purchase_Amount', 'Gender', 'Feedback_Score',\n",
       "       'Registration_Date'],\n",
       "      dtype='object')"
      ]
     },
     "execution_count": 6,
     "metadata": {},
     "output_type": "execute_result"
    }
   ],
   "source": [
    "#Your code here\n",
    "df.columns"
   ]
  },
  {
   "attachments": {},
   "cell_type": "markdown",
   "metadata": {},
   "source": [
    "### **Question 0.6: Identify the Number of Missing Values**\n",
    "\n",
    "- Use the `.isna().sum()` method to check how many missing values exist in each column of the DataFrame.\n",
    "\n",
    "```python\n",
    "# Check for missing values in each column\n",
    "df.isna().sum()"
   ]
  },
  {
   "cell_type": "code",
   "execution_count": 7,
   "metadata": {},
   "outputs": [
    {
     "data": {
      "text/plain": [
       "CustomerID              0\n",
       "First_Name              0\n",
       "Last_Name               1\n",
       "Phone_Number            2\n",
       "Age                     0\n",
       "Email                   0\n",
       "Total_Purchases         4\n",
       "Last_Purchase_Amount    4\n",
       "Gender                  0\n",
       "Feedback_Score          4\n",
       "Registration_Date       0\n",
       "dtype: int64"
      ]
     },
     "execution_count": 7,
     "metadata": {},
     "output_type": "execute_result"
    }
   ],
   "source": [
    "#Your code here\n",
    "df.isna().sum()"
   ]
  },
  {
   "attachments": {},
   "cell_type": "markdown",
   "metadata": {
    "colab": {
     "base_uri": "https://localhost:8080/",
     "height": 241
    },
    "id": "uLU-q37r3DDB",
    "outputId": "74801382-cbf7-4891-ad70-6e3ad4092894"
   },
   "source": [
    "## **Data Cleaning Tasks**\n",
    "\n",
    "### **Question 1: Remove Duplicate Records**\n",
    "\n",
    "- Remove any duplicate rows from the dataset.\n",
    "\n",
    "**Hint:** You can use the  `.drop_duplicates` method"
   ]
  },
  {
   "cell_type": "code",
   "execution_count": 8,
   "metadata": {
    "colab": {
     "base_uri": "https://localhost:8080/",
     "height": 241
    },
    "id": "z-kBIO5L3DDB",
    "outputId": "96c8f77e-e1de-4a76-9aba-ed02f349e912"
   },
   "outputs": [
    {
     "name": "stdout",
     "output_type": "stream",
     "text": [
      "1\n"
     ]
    }
   ],
   "source": [
    "customer_duplicates = df['CustomerID'].duplicated()\n",
    "print(customer_duplicates.sum())  # This will give the number of duplicate CustomerID values\n"
   ]
  },
  {
   "cell_type": "code",
   "execution_count": 9,
   "metadata": {},
   "outputs": [
    {
     "data": {
      "text/html": [
       "<div>\n",
       "<style scoped>\n",
       "    .dataframe tbody tr th:only-of-type {\n",
       "        vertical-align: middle;\n",
       "    }\n",
       "\n",
       "    .dataframe tbody tr th {\n",
       "        vertical-align: top;\n",
       "    }\n",
       "\n",
       "    .dataframe thead th {\n",
       "        text-align: right;\n",
       "    }\n",
       "</style>\n",
       "<table border=\"1\" class=\"dataframe\">\n",
       "  <thead>\n",
       "    <tr style=\"text-align: right;\">\n",
       "      <th></th>\n",
       "      <th>CustomerID</th>\n",
       "      <th>First_Name</th>\n",
       "      <th>Last_Name</th>\n",
       "      <th>Phone_Number</th>\n",
       "      <th>Age</th>\n",
       "      <th>Email</th>\n",
       "      <th>Total_Purchases</th>\n",
       "      <th>Last_Purchase_Amount</th>\n",
       "      <th>Gender</th>\n",
       "      <th>Feedback_Score</th>\n",
       "      <th>Registration_Date</th>\n",
       "    </tr>\n",
       "  </thead>\n",
       "  <tbody>\n",
       "    <tr>\n",
       "      <th>0</th>\n",
       "      <td>1001</td>\n",
       "      <td>Frodo</td>\n",
       "      <td>Baggins</td>\n",
       "      <td>123-545-5421</td>\n",
       "      <td>56</td>\n",
       "      <td>frodo.baggins@example.com</td>\n",
       "      <td>5.0</td>\n",
       "      <td>$100.50</td>\n",
       "      <td>M</td>\n",
       "      <td>8.0</td>\n",
       "      <td>03/16/2021</td>\n",
       "    </tr>\n",
       "    <tr>\n",
       "      <th>1</th>\n",
       "      <td>1002</td>\n",
       "      <td>Abed</td>\n",
       "      <td>Nadir</td>\n",
       "      <td>123/643/9775</td>\n",
       "      <td>46</td>\n",
       "      <td>abed.nadir@example.com</td>\n",
       "      <td>3.0</td>\n",
       "      <td>75</td>\n",
       "      <td>F</td>\n",
       "      <td>9.0</td>\n",
       "      <td>01/21/2020</td>\n",
       "    </tr>\n",
       "    <tr>\n",
       "      <th>2</th>\n",
       "      <td>1003</td>\n",
       "      <td>Walter</td>\n",
       "      <td>/White</td>\n",
       "      <td>7066950392</td>\n",
       "      <td>32</td>\n",
       "      <td>walter./white@example.com</td>\n",
       "      <td>7.0</td>\n",
       "      <td>$250.00</td>\n",
       "      <td>Male</td>\n",
       "      <td>6.0</td>\n",
       "      <td>08/13/2021</td>\n",
       "    </tr>\n",
       "    <tr>\n",
       "      <th>3</th>\n",
       "      <td>1004</td>\n",
       "      <td>Dwight</td>\n",
       "      <td>Schrute</td>\n",
       "      <td>123-543-2345</td>\n",
       "      <td>60</td>\n",
       "      <td>dwight.schrute@example.com</td>\n",
       "      <td>NaN</td>\n",
       "      <td>NaN</td>\n",
       "      <td>Female</td>\n",
       "      <td>NaN</td>\n",
       "      <td>10/04/2019</td>\n",
       "    </tr>\n",
       "    <tr>\n",
       "      <th>4</th>\n",
       "      <td>1005</td>\n",
       "      <td>Jon</td>\n",
       "      <td>Snow</td>\n",
       "      <td>876|678|3469</td>\n",
       "      <td>25</td>\n",
       "      <td>jon.snow@example.com</td>\n",
       "      <td>10.0</td>\n",
       "      <td>$500</td>\n",
       "      <td>F</td>\n",
       "      <td>7.0</td>\n",
       "      <td>04/04/2020</td>\n",
       "    </tr>\n",
       "  </tbody>\n",
       "</table>\n",
       "</div>"
      ],
      "text/plain": [
       "   CustomerID First_Name Last_Name  Phone_Number  Age  \\\n",
       "0        1001      Frodo   Baggins  123-545-5421   56   \n",
       "1        1002       Abed     Nadir  123/643/9775   46   \n",
       "2        1003     Walter    /White    7066950392   32   \n",
       "3        1004     Dwight   Schrute  123-543-2345   60   \n",
       "4        1005        Jon      Snow  876|678|3469   25   \n",
       "\n",
       "                        Email  Total_Purchases Last_Purchase_Amount  Gender  \\\n",
       "0   frodo.baggins@example.com              5.0              $100.50       M   \n",
       "1      abed.nadir@example.com              3.0                   75       F   \n",
       "2   walter./white@example.com              7.0              $250.00    Male   \n",
       "3  dwight.schrute@example.com              NaN                  NaN  Female   \n",
       "4        jon.snow@example.com             10.0                 $500       F   \n",
       "\n",
       "   Feedback_Score Registration_Date  \n",
       "0             8.0        03/16/2021  \n",
       "1             9.0        01/21/2020  \n",
       "2             6.0        08/13/2021  \n",
       "3             NaN        10/04/2019  \n",
       "4             7.0        04/04/2020  "
      ]
     },
     "execution_count": 9,
     "metadata": {},
     "output_type": "execute_result"
    }
   ],
   "source": [
    "df_1 = df.drop_duplicates(subset=['CustomerID'])\n",
    "df_1.head()"
   ]
  },
  {
   "cell_type": "code",
   "execution_count": 10,
   "metadata": {},
   "outputs": [
    {
     "data": {
      "text/plain": [
       "CustomerID              0\n",
       "First_Name              0\n",
       "Last_Name               1\n",
       "Phone_Number            2\n",
       "Age                     0\n",
       "Email                   0\n",
       "Total_Purchases         4\n",
       "Last_Purchase_Amount    4\n",
       "Gender                  0\n",
       "Feedback_Score          4\n",
       "Registration_Date       0\n",
       "dtype: int64"
      ]
     },
     "execution_count": 10,
     "metadata": {},
     "output_type": "execute_result"
    }
   ],
   "source": [
    "df_1.isna().sum()"
   ]
  },
  {
   "cell_type": "code",
   "execution_count": 11,
   "metadata": {},
   "outputs": [
    {
     "name": "stdout",
     "output_type": "stream",
     "text": [
      "<class 'pandas.core.frame.DataFrame'>\n",
      "Index: 20 entries, 0 to 19\n",
      "Data columns (total 11 columns):\n",
      " #   Column                Non-Null Count  Dtype  \n",
      "---  ------                --------------  -----  \n",
      " 0   CustomerID            20 non-null     int64  \n",
      " 1   First_Name            20 non-null     object \n",
      " 2   Last_Name             19 non-null     object \n",
      " 3   Phone_Number          18 non-null     object \n",
      " 4   Age                   20 non-null     int64  \n",
      " 5   Email                 20 non-null     object \n",
      " 6   Total_Purchases       16 non-null     float64\n",
      " 7   Last_Purchase_Amount  16 non-null     object \n",
      " 8   Gender                20 non-null     object \n",
      " 9   Feedback_Score        16 non-null     float64\n",
      " 10  Registration_Date     20 non-null     object \n",
      "dtypes: float64(2), int64(2), object(7)\n",
      "memory usage: 1.9+ KB\n"
     ]
    }
   ],
   "source": [
    "df_1.info()"
   ]
  },
  {
   "cell_type": "code",
   "execution_count": 12,
   "metadata": {},
   "outputs": [
    {
     "data": {
      "text/html": [
       "<div>\n",
       "<style scoped>\n",
       "    .dataframe tbody tr th:only-of-type {\n",
       "        vertical-align: middle;\n",
       "    }\n",
       "\n",
       "    .dataframe tbody tr th {\n",
       "        vertical-align: top;\n",
       "    }\n",
       "\n",
       "    .dataframe thead th {\n",
       "        text-align: right;\n",
       "    }\n",
       "</style>\n",
       "<table border=\"1\" class=\"dataframe\">\n",
       "  <thead>\n",
       "    <tr style=\"text-align: right;\">\n",
       "      <th></th>\n",
       "      <th>CustomerID</th>\n",
       "      <th>Age</th>\n",
       "      <th>Total_Purchases</th>\n",
       "      <th>Feedback_Score</th>\n",
       "    </tr>\n",
       "  </thead>\n",
       "  <tbody>\n",
       "    <tr>\n",
       "      <th>count</th>\n",
       "      <td>20.00000</td>\n",
       "      <td>20.000000</td>\n",
       "      <td>16.000000</td>\n",
       "      <td>16.000000</td>\n",
       "    </tr>\n",
       "    <tr>\n",
       "      <th>mean</th>\n",
       "      <td>1010.50000</td>\n",
       "      <td>40.850000</td>\n",
       "      <td>6.437500</td>\n",
       "      <td>7.125000</td>\n",
       "    </tr>\n",
       "    <tr>\n",
       "      <th>std</th>\n",
       "      <td>5.91608</td>\n",
       "      <td>13.128013</td>\n",
       "      <td>4.426718</td>\n",
       "      <td>2.061553</td>\n",
       "    </tr>\n",
       "    <tr>\n",
       "      <th>min</th>\n",
       "      <td>1001.00000</td>\n",
       "      <td>19.000000</td>\n",
       "      <td>0.000000</td>\n",
       "      <td>3.000000</td>\n",
       "    </tr>\n",
       "    <tr>\n",
       "      <th>25%</th>\n",
       "      <td>1005.75000</td>\n",
       "      <td>31.000000</td>\n",
       "      <td>3.000000</td>\n",
       "      <td>6.000000</td>\n",
       "    </tr>\n",
       "    <tr>\n",
       "      <th>50%</th>\n",
       "      <td>1010.50000</td>\n",
       "      <td>40.500000</td>\n",
       "      <td>5.500000</td>\n",
       "      <td>7.000000</td>\n",
       "    </tr>\n",
       "    <tr>\n",
       "      <th>75%</th>\n",
       "      <td>1015.25000</td>\n",
       "      <td>53.750000</td>\n",
       "      <td>9.250000</td>\n",
       "      <td>9.000000</td>\n",
       "    </tr>\n",
       "    <tr>\n",
       "      <th>max</th>\n",
       "      <td>1020.00000</td>\n",
       "      <td>61.000000</td>\n",
       "      <td>15.000000</td>\n",
       "      <td>10.000000</td>\n",
       "    </tr>\n",
       "  </tbody>\n",
       "</table>\n",
       "</div>"
      ],
      "text/plain": [
       "       CustomerID        Age  Total_Purchases  Feedback_Score\n",
       "count    20.00000  20.000000        16.000000       16.000000\n",
       "mean   1010.50000  40.850000         6.437500        7.125000\n",
       "std       5.91608  13.128013         4.426718        2.061553\n",
       "min    1001.00000  19.000000         0.000000        3.000000\n",
       "25%    1005.75000  31.000000         3.000000        6.000000\n",
       "50%    1010.50000  40.500000         5.500000        7.000000\n",
       "75%    1015.25000  53.750000         9.250000        9.000000\n",
       "max    1020.00000  61.000000        15.000000       10.000000"
      ]
     },
     "execution_count": 12,
     "metadata": {},
     "output_type": "execute_result"
    }
   ],
   "source": [
    "df_1.describe()"
   ]
  },
  {
   "cell_type": "markdown",
   "metadata": {},
   "source": [
    "# Change the datatype customer ID to Object"
   ]
  },
  {
   "cell_type": "code",
   "execution_count": 13,
   "metadata": {},
   "outputs": [
    {
     "name": "stderr",
     "output_type": "stream",
     "text": [
      "C:\\Users\\User\\AppData\\Local\\Temp\\ipykernel_15720\\2730077080.py:2: SettingWithCopyWarning: \n",
      "A value is trying to be set on a copy of a slice from a DataFrame.\n",
      "Try using .loc[row_indexer,col_indexer] = value instead\n",
      "\n",
      "See the caveats in the documentation: https://pandas.pydata.org/pandas-docs/stable/user_guide/indexing.html#returning-a-view-versus-a-copy\n",
      "  df_1['CustomerID'] = df_1['CustomerID'].astype('object')\n"
     ]
    }
   ],
   "source": [
    "# Convert CustomerID column to object (string)\n",
    "df_1['CustomerID'] = df_1['CustomerID'].astype('object')\n"
   ]
  },
  {
   "cell_type": "markdown",
   "metadata": {},
   "source": [
    "# Acces to Missing data"
   ]
  },
  {
   "cell_type": "code",
   "execution_count": 14,
   "metadata": {},
   "outputs": [],
   "source": [
    "#missing_phone_numbers"
   ]
  },
  {
   "cell_type": "code",
   "execution_count": 15,
   "metadata": {},
   "outputs": [],
   "source": [
    "#missing_Last_Name\n"
   ]
  },
  {
   "cell_type": "code",
   "execution_count": 16,
   "metadata": {},
   "outputs": [],
   "source": [
    "#missing_Total_Purchases"
   ]
  },
  {
   "cell_type": "code",
   "execution_count": 17,
   "metadata": {},
   "outputs": [],
   "source": [
    "#missing_Last_Purchase_Amount"
   ]
  },
  {
   "cell_type": "code",
   "execution_count": 18,
   "metadata": {},
   "outputs": [],
   "source": [
    "#missing_Feedback_Score"
   ]
  },
  {
   "cell_type": "markdown",
   "metadata": {},
   "source": [
    "# Handle Missing data for Name and Phone number"
   ]
  },
  {
   "cell_type": "code",
   "execution_count": 19,
   "metadata": {},
   "outputs": [
    {
     "name": "stderr",
     "output_type": "stream",
     "text": [
      "C:\\Users\\User\\AppData\\Local\\Temp\\ipykernel_15720\\3100813272.py:2: SettingWithCopyWarning: \n",
      "A value is trying to be set on a copy of a slice from a DataFrame.\n",
      "Try using .loc[row_indexer,col_indexer] = value instead\n",
      "\n",
      "See the caveats in the documentation: https://pandas.pydata.org/pandas-docs/stable/user_guide/indexing.html#returning-a-view-versus-a-copy\n",
      "  df_1['Last_Name'] = df_1['Last_Name'].fillna('Unknown')\n"
     ]
    }
   ],
   "source": [
    "# Mengisi NaN dengan \"Unknown\"\n",
    "df_1['Last_Name'] = df_1['Last_Name'].fillna('Unknown')\n"
   ]
  },
  {
   "cell_type": "code",
   "execution_count": 20,
   "metadata": {},
   "outputs": [
    {
     "name": "stderr",
     "output_type": "stream",
     "text": [
      "C:\\Users\\User\\AppData\\Local\\Temp\\ipykernel_15720\\2273162178.py:1: SettingWithCopyWarning: \n",
      "A value is trying to be set on a copy of a slice from a DataFrame.\n",
      "Try using .loc[row_indexer,col_indexer] = value instead\n",
      "\n",
      "See the caveats in the documentation: https://pandas.pydata.org/pandas-docs/stable/user_guide/indexing.html#returning-a-view-versus-a-copy\n",
      "  df_1['Phone_Number'] = df_1['Phone_Number'].fillna('Unknown')\n"
     ]
    }
   ],
   "source": [
    "df_1['Phone_Number'] = df_1['Phone_Number'].fillna('Unknown')"
   ]
  },
  {
   "attachments": {},
   "cell_type": "markdown",
   "metadata": {},
   "source": [
    "### **Question 2: Fix Phone Numbers And Last Name (Standardize)**\n",
    "\n",
    "- Standardize the `Phone_Number` column by removing special characters (like `-`, `/`, `|`) and ensuring all phone numbers have a uniform format.\n"
   ]
  },
  {
   "cell_type": "markdown",
   "metadata": {},
   "source": [
    "## Phone Number"
   ]
  },
  {
   "cell_type": "code",
   "execution_count": 21,
   "metadata": {},
   "outputs": [
    {
     "name": "stdout",
     "output_type": "stream",
     "text": [
      "0    1235455421\n",
      "1    1236439775\n",
      "2    7066950392\n",
      "3    1235432345\n",
      "4    8766783469\n",
      "Name: Phone_Number, dtype: object\n"
     ]
    },
    {
     "name": "stderr",
     "output_type": "stream",
     "text": [
      "<>:5: SyntaxWarning: invalid escape sequence '\\-'\n",
      "<>:5: SyntaxWarning: invalid escape sequence '\\-'\n",
      "C:\\Users\\User\\AppData\\Local\\Temp\\ipykernel_15720\\3410953555.py:5: SyntaxWarning: invalid escape sequence '\\-'\n",
      "  df_2['Phone_Number'] = df_2['Phone_Number'].replace('[\\-/|,]', '', regex=True).astype(object)\n"
     ]
    }
   ],
   "source": [
    "# Create a copy of df_1\n",
    "df_2 = df_1.copy()\n",
    "\n",
    "# Clean the 'Phone_Number' column by removing specific characters\n",
    "df_2['Phone_Number'] = df_2['Phone_Number'].replace('[\\-/|,]', '', regex=True).astype(object)\n",
    "\n",
    "# Verify the changes\n",
    "print(df_2['Phone_Number'].head())\n"
   ]
  },
  {
   "cell_type": "markdown",
   "metadata": {},
   "source": [
    "## Last name"
   ]
  },
  {
   "cell_type": "code",
   "execution_count": 22,
   "metadata": {},
   "outputs": [
    {
     "name": "stdout",
     "output_type": "stream",
     "text": [
      "Simbol yang terdapat dalam kolum 'Last_Purchase_Amount': {'.', '/'}\n"
     ]
    }
   ],
   "source": [
    "import re\n",
    "\n",
    "# Gabungkan semua teks dalam kolum\n",
    "all_text = ''.join(df_2['Last_Name'].astype(str))\n",
    "\n",
    "# Gunakan regex untuk mencari simbol khas\n",
    "symbols = re.findall(r'[^\\w\\s]', all_text)\n",
    "\n",
    "# Tukar kepada set untuk buang pendua\n",
    "unique_symbols = set(symbols)\n",
    "\n",
    "# Paparkan simbol khas\n",
    "print(\"Simbol yang terdapat dalam kolum 'Last_Purchase_Amount':\", unique_symbols)"
   ]
  },
  {
   "cell_type": "code",
   "execution_count": 23,
   "metadata": {},
   "outputs": [
    {
     "name": "stdout",
     "output_type": "stream",
     "text": [
      "0    Baggins\n",
      "1      Nadir\n",
      "2      White\n",
      "3    Schrute\n",
      "4       Snow\n",
      "Name: Last_Name, dtype: object\n"
     ]
    },
    {
     "name": "stderr",
     "output_type": "stream",
     "text": [
      "<>:1: SyntaxWarning: invalid escape sequence '\\/'\n",
      "<>:1: SyntaxWarning: invalid escape sequence '\\/'\n",
      "C:\\Users\\User\\AppData\\Local\\Temp\\ipykernel_15720\\587473401.py:1: SyntaxWarning: invalid escape sequence '\\/'\n",
      "  df_2['Last_Name'] = df_2['Last_Name'].replace('[\\/,.]', '', regex=True).astype(object)\n"
     ]
    }
   ],
   "source": [
    "df_2['Last_Name'] = df_2['Last_Name'].replace('[\\/,.]', '', regex=True).astype(object)\n",
    "\n",
    "# Verifikasi perubahan\n",
    "print(df_2['Last_Name'].head())\n",
    "\n"
   ]
  },
  {
   "cell_type": "markdown",
   "metadata": {},
   "source": [
    "# Last_Purchase_Amount"
   ]
  },
  {
   "cell_type": "code",
   "execution_count": 24,
   "metadata": {},
   "outputs": [
    {
     "name": "stdout",
     "output_type": "stream",
     "text": [
      "Simbol yang terdapat dalam kolum 'Last_Purchase_Amount': {'.', '$'}\n"
     ]
    }
   ],
   "source": [
    "import re\n",
    "\n",
    "# Gabungkan semua teks dalam kolum\n",
    "all_text = ''.join(df_2['Last_Purchase_Amount'].astype(str))\n",
    "\n",
    "# Gunakan regex untuk mencari simbol khas\n",
    "symbols = re.findall(r'[^\\w\\s]', all_text)\n",
    "\n",
    "# Tukar kepada set untuk buang pendua\n",
    "unique_symbols = set(symbols)\n",
    "\n",
    "# Paparkan simbol khas\n",
    "print(\"Simbol yang terdapat dalam kolum 'Last_Purchase_Amount':\", unique_symbols)"
   ]
  },
  {
   "cell_type": "code",
   "execution_count": 25,
   "metadata": {},
   "outputs": [
    {
     "name": "stdout",
     "output_type": "stream",
     "text": [
      "0    100.50\n",
      "1        75\n",
      "2    250.00\n",
      "3       NaN\n",
      "4       500\n",
      "Name: Last_Purchase_Amount, dtype: object\n"
     ]
    },
    {
     "name": "stderr",
     "output_type": "stream",
     "text": [
      "<>:1: SyntaxWarning: invalid escape sequence '\\$'\n",
      "<>:1: SyntaxWarning: invalid escape sequence '\\$'\n",
      "C:\\Users\\User\\AppData\\Local\\Temp\\ipykernel_15720\\2540588894.py:1: SyntaxWarning: invalid escape sequence '\\$'\n",
      "  df_2['Last_Purchase_Amount'] = df_2['Last_Purchase_Amount'].replace('[\\$]', '', regex=True).astype(object)\n"
     ]
    }
   ],
   "source": [
    "df_2['Last_Purchase_Amount'] = df_2['Last_Purchase_Amount'].replace('[\\$]', '', regex=True).astype(object)\n",
    "\n",
    "# Verifikasi perubahan\n",
    "print(df_2['Last_Purchase_Amount'].head())\n"
   ]
  },
  {
   "cell_type": "code",
   "execution_count": 26,
   "metadata": {},
   "outputs": [
    {
     "data": {
      "text/plain": [
       "CustomerID              0\n",
       "First_Name              0\n",
       "Last_Name               0\n",
       "Phone_Number            0\n",
       "Age                     0\n",
       "Email                   0\n",
       "Total_Purchases         4\n",
       "Last_Purchase_Amount    4\n",
       "Gender                  0\n",
       "Feedback_Score          4\n",
       "Registration_Date       0\n",
       "dtype: int64"
      ]
     },
     "execution_count": 26,
     "metadata": {},
     "output_type": "execute_result"
    }
   ],
   "source": [
    "df_2.isna().sum()"
   ]
  },
  {
   "cell_type": "code",
   "execution_count": 27,
   "metadata": {},
   "outputs": [
    {
     "data": {
      "text/html": [
       "<div>\n",
       "<style scoped>\n",
       "    .dataframe tbody tr th:only-of-type {\n",
       "        vertical-align: middle;\n",
       "    }\n",
       "\n",
       "    .dataframe tbody tr th {\n",
       "        vertical-align: top;\n",
       "    }\n",
       "\n",
       "    .dataframe thead th {\n",
       "        text-align: right;\n",
       "    }\n",
       "</style>\n",
       "<table border=\"1\" class=\"dataframe\">\n",
       "  <thead>\n",
       "    <tr style=\"text-align: right;\">\n",
       "      <th></th>\n",
       "      <th>Age</th>\n",
       "      <th>Total_Purchases</th>\n",
       "      <th>Feedback_Score</th>\n",
       "    </tr>\n",
       "  </thead>\n",
       "  <tbody>\n",
       "    <tr>\n",
       "      <th>count</th>\n",
       "      <td>20.000000</td>\n",
       "      <td>16.000000</td>\n",
       "      <td>16.000000</td>\n",
       "    </tr>\n",
       "    <tr>\n",
       "      <th>mean</th>\n",
       "      <td>40.850000</td>\n",
       "      <td>6.437500</td>\n",
       "      <td>7.125000</td>\n",
       "    </tr>\n",
       "    <tr>\n",
       "      <th>std</th>\n",
       "      <td>13.128013</td>\n",
       "      <td>4.426718</td>\n",
       "      <td>2.061553</td>\n",
       "    </tr>\n",
       "    <tr>\n",
       "      <th>min</th>\n",
       "      <td>19.000000</td>\n",
       "      <td>0.000000</td>\n",
       "      <td>3.000000</td>\n",
       "    </tr>\n",
       "    <tr>\n",
       "      <th>25%</th>\n",
       "      <td>31.000000</td>\n",
       "      <td>3.000000</td>\n",
       "      <td>6.000000</td>\n",
       "    </tr>\n",
       "    <tr>\n",
       "      <th>50%</th>\n",
       "      <td>40.500000</td>\n",
       "      <td>5.500000</td>\n",
       "      <td>7.000000</td>\n",
       "    </tr>\n",
       "    <tr>\n",
       "      <th>75%</th>\n",
       "      <td>53.750000</td>\n",
       "      <td>9.250000</td>\n",
       "      <td>9.000000</td>\n",
       "    </tr>\n",
       "    <tr>\n",
       "      <th>max</th>\n",
       "      <td>61.000000</td>\n",
       "      <td>15.000000</td>\n",
       "      <td>10.000000</td>\n",
       "    </tr>\n",
       "  </tbody>\n",
       "</table>\n",
       "</div>"
      ],
      "text/plain": [
       "             Age  Total_Purchases  Feedback_Score\n",
       "count  20.000000        16.000000       16.000000\n",
       "mean   40.850000         6.437500        7.125000\n",
       "std    13.128013         4.426718        2.061553\n",
       "min    19.000000         0.000000        3.000000\n",
       "25%    31.000000         3.000000        6.000000\n",
       "50%    40.500000         5.500000        7.000000\n",
       "75%    53.750000         9.250000        9.000000\n",
       "max    61.000000        15.000000       10.000000"
      ]
     },
     "execution_count": 27,
     "metadata": {},
     "output_type": "execute_result"
    }
   ],
   "source": [
    "df_2.describe()"
   ]
  },
  {
   "attachments": {},
   "cell_type": "markdown",
   "metadata": {
    "id": "Jku4kAbOLAeA"
   },
   "source": [
    "### **Question 4: Correct Last Purchase Amount**\n",
    "\n",
    "- In the `Last_Purchase_Amount` column, remove dollar signs (`$`) and commas, and convert the values to numeric.\n"
   ]
  },
  {
   "cell_type": "code",
   "execution_count": 29,
   "metadata": {
    "colab": {
     "base_uri": "https://localhost:8080/",
     "height": 241
    },
    "id": "9r0gfWLQLFCB",
    "outputId": "2b3b8394-0744-4024-80a7-8de9ce2ec806"
   },
   "outputs": [
    {
     "data": {
      "text/html": [
       "<div>\n",
       "<style scoped>\n",
       "    .dataframe tbody tr th:only-of-type {\n",
       "        vertical-align: middle;\n",
       "    }\n",
       "\n",
       "    .dataframe tbody tr th {\n",
       "        vertical-align: top;\n",
       "    }\n",
       "\n",
       "    .dataframe thead th {\n",
       "        text-align: right;\n",
       "    }\n",
       "</style>\n",
       "<table border=\"1\" class=\"dataframe\">\n",
       "  <thead>\n",
       "    <tr style=\"text-align: right;\">\n",
       "      <th></th>\n",
       "      <th>CustomerID</th>\n",
       "      <th>First_Name</th>\n",
       "      <th>Last_Name</th>\n",
       "      <th>Phone_Number</th>\n",
       "      <th>Age</th>\n",
       "      <th>Email</th>\n",
       "      <th>Total_Purchases</th>\n",
       "      <th>Last_Purchase_Amount</th>\n",
       "      <th>Gender</th>\n",
       "      <th>Feedback_Score</th>\n",
       "      <th>Registration_Date</th>\n",
       "    </tr>\n",
       "  </thead>\n",
       "  <tbody>\n",
       "    <tr>\n",
       "      <th>0</th>\n",
       "      <td>1001</td>\n",
       "      <td>Frodo</td>\n",
       "      <td>Baggins</td>\n",
       "      <td>123-545-5421</td>\n",
       "      <td>56</td>\n",
       "      <td>frodo.baggins@example.com</td>\n",
       "      <td>5.0</td>\n",
       "      <td>$100.50</td>\n",
       "      <td>M</td>\n",
       "      <td>8.0</td>\n",
       "      <td>03/16/2021</td>\n",
       "    </tr>\n",
       "    <tr>\n",
       "      <th>1</th>\n",
       "      <td>1002</td>\n",
       "      <td>Abed</td>\n",
       "      <td>Nadir</td>\n",
       "      <td>123/643/9775</td>\n",
       "      <td>46</td>\n",
       "      <td>abed.nadir@example.com</td>\n",
       "      <td>3.0</td>\n",
       "      <td>75</td>\n",
       "      <td>F</td>\n",
       "      <td>9.0</td>\n",
       "      <td>01/21/2020</td>\n",
       "    </tr>\n",
       "    <tr>\n",
       "      <th>2</th>\n",
       "      <td>1003</td>\n",
       "      <td>Walter</td>\n",
       "      <td>/White</td>\n",
       "      <td>7066950392</td>\n",
       "      <td>32</td>\n",
       "      <td>walter./white@example.com</td>\n",
       "      <td>7.0</td>\n",
       "      <td>$250.00</td>\n",
       "      <td>Male</td>\n",
       "      <td>6.0</td>\n",
       "      <td>08/13/2021</td>\n",
       "    </tr>\n",
       "    <tr>\n",
       "      <th>3</th>\n",
       "      <td>1004</td>\n",
       "      <td>Dwight</td>\n",
       "      <td>Schrute</td>\n",
       "      <td>123-543-2345</td>\n",
       "      <td>60</td>\n",
       "      <td>dwight.schrute@example.com</td>\n",
       "      <td>NaN</td>\n",
       "      <td>NaN</td>\n",
       "      <td>Female</td>\n",
       "      <td>NaN</td>\n",
       "      <td>10/04/2019</td>\n",
       "    </tr>\n",
       "    <tr>\n",
       "      <th>4</th>\n",
       "      <td>1005</td>\n",
       "      <td>Jon</td>\n",
       "      <td>Snow</td>\n",
       "      <td>876|678|3469</td>\n",
       "      <td>25</td>\n",
       "      <td>jon.snow@example.com</td>\n",
       "      <td>10.0</td>\n",
       "      <td>$500</td>\n",
       "      <td>F</td>\n",
       "      <td>7.0</td>\n",
       "      <td>04/04/2020</td>\n",
       "    </tr>\n",
       "  </tbody>\n",
       "</table>\n",
       "</div>"
      ],
      "text/plain": [
       "  CustomerID First_Name Last_Name  Phone_Number  Age  \\\n",
       "0       1001      Frodo   Baggins  123-545-5421   56   \n",
       "1       1002       Abed     Nadir  123/643/9775   46   \n",
       "2       1003     Walter    /White    7066950392   32   \n",
       "3       1004     Dwight   Schrute  123-543-2345   60   \n",
       "4       1005        Jon      Snow  876|678|3469   25   \n",
       "\n",
       "                        Email  Total_Purchases Last_Purchase_Amount  Gender  \\\n",
       "0   frodo.baggins@example.com              5.0              $100.50       M   \n",
       "1      abed.nadir@example.com              3.0                   75       F   \n",
       "2   walter./white@example.com              7.0              $250.00    Male   \n",
       "3  dwight.schrute@example.com              NaN                  NaN  Female   \n",
       "4        jon.snow@example.com             10.0                 $500       F   \n",
       "\n",
       "   Feedback_Score Registration_Date  \n",
       "0             8.0        03/16/2021  \n",
       "1             9.0        01/21/2020  \n",
       "2             6.0        08/13/2021  \n",
       "3             NaN        10/04/2019  \n",
       "4             7.0        04/04/2020  "
      ]
     },
     "execution_count": 29,
     "metadata": {},
     "output_type": "execute_result"
    }
   ],
   "source": [
    "#Your Code here\n",
    "df_1.head()"
   ]
  },
  {
   "cell_type": "code",
   "execution_count": 30,
   "metadata": {},
   "outputs": [
    {
     "name": "stderr",
     "output_type": "stream",
     "text": [
      "<>:2: SyntaxWarning: invalid escape sequence '\\$'\n",
      "<>:2: SyntaxWarning: invalid escape sequence '\\$'\n",
      "C:\\Users\\User\\AppData\\Local\\Temp\\ipykernel_15720\\3557507131.py:2: SyntaxWarning: invalid escape sequence '\\$'\n",
      "  df_1['Last_Purchase_Amount'] = df_1['Last_Purchase_Amount'].replace('[\\$,]', '', regex=True).astype(float)\n",
      "C:\\Users\\User\\AppData\\Local\\Temp\\ipykernel_15720\\3557507131.py:2: SettingWithCopyWarning: \n",
      "A value is trying to be set on a copy of a slice from a DataFrame.\n",
      "Try using .loc[row_indexer,col_indexer] = value instead\n",
      "\n",
      "See the caveats in the documentation: https://pandas.pydata.org/pandas-docs/stable/user_guide/indexing.html#returning-a-view-versus-a-copy\n",
      "  df_1['Last_Purchase_Amount'] = df_1['Last_Purchase_Amount'].replace('[\\$,]', '', regex=True).astype(float)\n"
     ]
    },
    {
     "data": {
      "text/plain": [
       "0    100.5\n",
       "1     75.0\n",
       "2    250.0\n",
       "3      NaN\n",
       "4    500.0\n",
       "Name: Last_Purchase_Amount, dtype: float64"
      ]
     },
     "execution_count": 30,
     "metadata": {},
     "output_type": "execute_result"
    }
   ],
   "source": [
    "# Menghapus simbol $ dan koma, lalu mengonversi ke tipe data numerik\n",
    "df_1['Last_Purchase_Amount'] = df_1['Last_Purchase_Amount'].replace('[\\$,]', '', regex=True).astype(float)\n",
    "\n",
    "# Verifikasi perubahan\n",
    "df_1['Last_Purchase_Amount'].head()\n"
   ]
  },
  {
   "cell_type": "code",
   "execution_count": 31,
   "metadata": {},
   "outputs": [
    {
     "name": "stdout",
     "output_type": "stream",
     "text": [
      "<class 'pandas.core.frame.DataFrame'>\n",
      "Index: 20 entries, 0 to 19\n",
      "Data columns (total 11 columns):\n",
      " #   Column                Non-Null Count  Dtype  \n",
      "---  ------                --------------  -----  \n",
      " 0   CustomerID            20 non-null     object \n",
      " 1   First_Name            20 non-null     object \n",
      " 2   Last_Name             20 non-null     object \n",
      " 3   Phone_Number          20 non-null     object \n",
      " 4   Age                   20 non-null     int64  \n",
      " 5   Email                 20 non-null     object \n",
      " 6   Total_Purchases       16 non-null     float64\n",
      " 7   Last_Purchase_Amount  16 non-null     object \n",
      " 8   Gender                20 non-null     object \n",
      " 9   Feedback_Score        16 non-null     float64\n",
      " 10  Registration_Date     20 non-null     object \n",
      "dtypes: float64(2), int64(1), object(8)\n",
      "memory usage: 1.9+ KB\n"
     ]
    }
   ],
   "source": [
    "df_2.info()\n"
   ]
  },
  {
   "cell_type": "code",
   "execution_count": 32,
   "metadata": {},
   "outputs": [
    {
     "data": {
      "text/plain": [
       "CustomerID              0\n",
       "First_Name              0\n",
       "Last_Name               0\n",
       "Phone_Number            0\n",
       "Age                     0\n",
       "Email                   0\n",
       "Total_Purchases         4\n",
       "Last_Purchase_Amount    4\n",
       "Gender                  0\n",
       "Feedback_Score          4\n",
       "Registration_Date       0\n",
       "dtype: int64"
      ]
     },
     "execution_count": 32,
     "metadata": {},
     "output_type": "execute_result"
    }
   ],
   "source": [
    "df_2.isna().sum()"
   ]
  },
  {
   "cell_type": "markdown",
   "metadata": {},
   "source": [
    "# Hanlde Missng data Total_Purchases / Last_Purchase_Amount / Feedback score with Mean"
   ]
  },
  {
   "cell_type": "markdown",
   "metadata": {},
   "source": [
    "## Total Purchase"
   ]
  },
  {
   "cell_type": "code",
   "execution_count": 33,
   "metadata": {},
   "outputs": [
    {
     "data": {
      "text/plain": [
       "array([ 5.,  3.,  7., nan, 10., 12.,  6.,  2.,  0.,  8., 15.,  9.,  4.,\n",
       "       13.,  1.])"
      ]
     },
     "execution_count": 33,
     "metadata": {},
     "output_type": "execute_result"
    }
   ],
   "source": [
    "df_2['Total_Purchases'].unique()"
   ]
  },
  {
   "cell_type": "code",
   "execution_count": 34,
   "metadata": {},
   "outputs": [],
   "source": [
    "# Gantikan nilai NaN dalam kolum 'Total_Purchases' dengan min (mean)\n",
    "df_2['Total_Purchases'] = df_2['Total_Purchases'].fillna(df_2['Total_Purchases'].mean())\n"
   ]
  },
  {
   "cell_type": "markdown",
   "metadata": {},
   "source": [
    "## Last Purchase amount"
   ]
  },
  {
   "cell_type": "code",
   "execution_count": 35,
   "metadata": {},
   "outputs": [],
   "source": [
    "df_3 = df_2.copy()\n",
    "# Convert CustomerID column to object (string)\n",
    "df_3['Last_Purchase_Amount'] = df_3['Last_Purchase_Amount'].astype('float')\n",
    "# Verify the change\n"
   ]
  },
  {
   "cell_type": "code",
   "execution_count": 36,
   "metadata": {},
   "outputs": [],
   "source": [
    "df_3['Last_Purchase_Amount'] = df_3['Last_Purchase_Amount'].fillna(df_3['Last_Purchase_Amount'].mean())"
   ]
  },
  {
   "cell_type": "code",
   "execution_count": 37,
   "metadata": {},
   "outputs": [
    {
     "data": {
      "text/plain": [
       "CustomerID              0\n",
       "First_Name              0\n",
       "Last_Name               0\n",
       "Phone_Number            0\n",
       "Age                     0\n",
       "Email                   0\n",
       "Total_Purchases         0\n",
       "Last_Purchase_Amount    0\n",
       "Gender                  0\n",
       "Feedback_Score          4\n",
       "Registration_Date       0\n",
       "dtype: int64"
      ]
     },
     "execution_count": 37,
     "metadata": {},
     "output_type": "execute_result"
    }
   ],
   "source": [
    "df_3.isna().sum()"
   ]
  },
  {
   "cell_type": "code",
   "execution_count": 38,
   "metadata": {},
   "outputs": [
    {
     "name": "stdout",
     "output_type": "stream",
     "text": [
      "<class 'pandas.core.frame.DataFrame'>\n",
      "Index: 20 entries, 0 to 19\n",
      "Data columns (total 11 columns):\n",
      " #   Column                Non-Null Count  Dtype  \n",
      "---  ------                --------------  -----  \n",
      " 0   CustomerID            20 non-null     object \n",
      " 1   First_Name            20 non-null     object \n",
      " 2   Last_Name             20 non-null     object \n",
      " 3   Phone_Number          20 non-null     object \n",
      " 4   Age                   20 non-null     int64  \n",
      " 5   Email                 20 non-null     object \n",
      " 6   Total_Purchases       20 non-null     float64\n",
      " 7   Last_Purchase_Amount  20 non-null     float64\n",
      " 8   Gender                20 non-null     object \n",
      " 9   Feedback_Score        16 non-null     float64\n",
      " 10  Registration_Date     20 non-null     object \n",
      "dtypes: float64(3), int64(1), object(7)\n",
      "memory usage: 1.9+ KB\n"
     ]
    }
   ],
   "source": [
    "df_3.info()"
   ]
  },
  {
   "cell_type": "markdown",
   "metadata": {},
   "source": [
    "## Feedback score"
   ]
  },
  {
   "cell_type": "code",
   "execution_count": 39,
   "metadata": {},
   "outputs": [],
   "source": [
    "df_3['Feedback_Score'] = df_3['Feedback_Score'].fillna(df_3['Feedback_Score'].mean())"
   ]
  },
  {
   "attachments": {},
   "cell_type": "markdown",
   "metadata": {
    "id": "K2v2D8D96KeT"
   },
   "source": [
    "### **Question 5: Standardize Gender**\n",
    "\n",
    "- Clean the `Gender` column to ensure consistent values:\n",
    "  - Convert `'M'` or `'Male'` to `'Male'`\n",
    "  - Convert `'F'` or `'Female'` to `'Female'`\n",
    "  - Combine any other values (e.g., `'Other'`, `'Unknown'`) into `'Other'`.\n",
    "  - *(Hint: Use the `.replace()` method to standardize the values)*"
   ]
  },
  {
   "cell_type": "code",
   "execution_count": 40,
   "metadata": {},
   "outputs": [
    {
     "data": {
      "text/plain": [
       "Gender\n",
       "F          5\n",
       "M          4\n",
       "Male       4\n",
       "Female     3\n",
       "Other      2\n",
       "Unknown    2\n",
       "Name: count, dtype: int64"
      ]
     },
     "execution_count": 40,
     "metadata": {},
     "output_type": "execute_result"
    }
   ],
   "source": [
    "df_3['Gender'].value_counts()"
   ]
  },
  {
   "cell_type": "code",
   "execution_count": 41,
   "metadata": {},
   "outputs": [],
   "source": [
    "# Gantikan 'F' dengan 'Female'\n",
    "df_3['Gender'] = df_3['Gender'].replace('F', 'Female')\n",
    "df_3['Gender'] = df_3['Gender'].replace('M', 'Male')\n",
    "df_3['Gender'] = df_3['Gender'].replace('Other', 'Unknown')\n"
   ]
  },
  {
   "cell_type": "code",
   "execution_count": 42,
   "metadata": {},
   "outputs": [
    {
     "data": {
      "text/html": [
       "<div>\n",
       "<style scoped>\n",
       "    .dataframe tbody tr th:only-of-type {\n",
       "        vertical-align: middle;\n",
       "    }\n",
       "\n",
       "    .dataframe tbody tr th {\n",
       "        vertical-align: top;\n",
       "    }\n",
       "\n",
       "    .dataframe thead th {\n",
       "        text-align: right;\n",
       "    }\n",
       "</style>\n",
       "<table border=\"1\" class=\"dataframe\">\n",
       "  <thead>\n",
       "    <tr style=\"text-align: right;\">\n",
       "      <th></th>\n",
       "      <th>CustomerID</th>\n",
       "      <th>First_Name</th>\n",
       "      <th>Last_Name</th>\n",
       "      <th>Phone_Number</th>\n",
       "      <th>Age</th>\n",
       "      <th>Email</th>\n",
       "      <th>Total_Purchases</th>\n",
       "      <th>Last_Purchase_Amount</th>\n",
       "      <th>Gender</th>\n",
       "      <th>Feedback_Score</th>\n",
       "      <th>Registration_Date</th>\n",
       "    </tr>\n",
       "  </thead>\n",
       "  <tbody>\n",
       "    <tr>\n",
       "      <th>0</th>\n",
       "      <td>1001</td>\n",
       "      <td>Frodo</td>\n",
       "      <td>Baggins</td>\n",
       "      <td>1235455421</td>\n",
       "      <td>56</td>\n",
       "      <td>frodo.baggins@example.com</td>\n",
       "      <td>5.0000</td>\n",
       "      <td>100.50000</td>\n",
       "      <td>Male</td>\n",
       "      <td>8.000</td>\n",
       "      <td>03/16/2021</td>\n",
       "    </tr>\n",
       "    <tr>\n",
       "      <th>1</th>\n",
       "      <td>1002</td>\n",
       "      <td>Abed</td>\n",
       "      <td>Nadir</td>\n",
       "      <td>1236439775</td>\n",
       "      <td>46</td>\n",
       "      <td>abed.nadir@example.com</td>\n",
       "      <td>3.0000</td>\n",
       "      <td>75.00000</td>\n",
       "      <td>Female</td>\n",
       "      <td>9.000</td>\n",
       "      <td>01/21/2020</td>\n",
       "    </tr>\n",
       "    <tr>\n",
       "      <th>2</th>\n",
       "      <td>1003</td>\n",
       "      <td>Walter</td>\n",
       "      <td>White</td>\n",
       "      <td>7066950392</td>\n",
       "      <td>32</td>\n",
       "      <td>walter./white@example.com</td>\n",
       "      <td>7.0000</td>\n",
       "      <td>250.00000</td>\n",
       "      <td>Male</td>\n",
       "      <td>6.000</td>\n",
       "      <td>08/13/2021</td>\n",
       "    </tr>\n",
       "    <tr>\n",
       "      <th>3</th>\n",
       "      <td>1004</td>\n",
       "      <td>Dwight</td>\n",
       "      <td>Schrute</td>\n",
       "      <td>1235432345</td>\n",
       "      <td>60</td>\n",
       "      <td>dwight.schrute@example.com</td>\n",
       "      <td>6.4375</td>\n",
       "      <td>169.53125</td>\n",
       "      <td>Female</td>\n",
       "      <td>7.125</td>\n",
       "      <td>10/04/2019</td>\n",
       "    </tr>\n",
       "    <tr>\n",
       "      <th>4</th>\n",
       "      <td>1005</td>\n",
       "      <td>Jon</td>\n",
       "      <td>Snow</td>\n",
       "      <td>8766783469</td>\n",
       "      <td>25</td>\n",
       "      <td>jon.snow@example.com</td>\n",
       "      <td>10.0000</td>\n",
       "      <td>500.00000</td>\n",
       "      <td>Female</td>\n",
       "      <td>7.000</td>\n",
       "      <td>04/04/2020</td>\n",
       "    </tr>\n",
       "  </tbody>\n",
       "</table>\n",
       "</div>"
      ],
      "text/plain": [
       "  CustomerID First_Name Last_Name Phone_Number  Age  \\\n",
       "0       1001      Frodo   Baggins   1235455421   56   \n",
       "1       1002       Abed     Nadir   1236439775   46   \n",
       "2       1003     Walter     White   7066950392   32   \n",
       "3       1004     Dwight   Schrute   1235432345   60   \n",
       "4       1005        Jon      Snow   8766783469   25   \n",
       "\n",
       "                        Email  Total_Purchases  Last_Purchase_Amount  Gender  \\\n",
       "0   frodo.baggins@example.com           5.0000             100.50000    Male   \n",
       "1      abed.nadir@example.com           3.0000              75.00000  Female   \n",
       "2   walter./white@example.com           7.0000             250.00000    Male   \n",
       "3  dwight.schrute@example.com           6.4375             169.53125  Female   \n",
       "4        jon.snow@example.com          10.0000             500.00000  Female   \n",
       "\n",
       "   Feedback_Score Registration_Date  \n",
       "0           8.000        03/16/2021  \n",
       "1           9.000        01/21/2020  \n",
       "2           6.000        08/13/2021  \n",
       "3           7.125        10/04/2019  \n",
       "4           7.000        04/04/2020  "
      ]
     },
     "execution_count": 42,
     "metadata": {},
     "output_type": "execute_result"
    }
   ],
   "source": [
    "df_3.head()"
   ]
  },
  {
   "cell_type": "code",
   "execution_count": 43,
   "metadata": {},
   "outputs": [
    {
     "data": {
      "text/html": [
       "<div>\n",
       "<style scoped>\n",
       "    .dataframe tbody tr th:only-of-type {\n",
       "        vertical-align: middle;\n",
       "    }\n",
       "\n",
       "    .dataframe tbody tr th {\n",
       "        vertical-align: top;\n",
       "    }\n",
       "\n",
       "    .dataframe thead th {\n",
       "        text-align: right;\n",
       "    }\n",
       "</style>\n",
       "<table border=\"1\" class=\"dataframe\">\n",
       "  <thead>\n",
       "    <tr style=\"text-align: right;\">\n",
       "      <th></th>\n",
       "      <th>Age</th>\n",
       "      <th>Total_Purchases</th>\n",
       "      <th>Last_Purchase_Amount</th>\n",
       "      <th>Feedback_Score</th>\n",
       "    </tr>\n",
       "  </thead>\n",
       "  <tbody>\n",
       "    <tr>\n",
       "      <th>count</th>\n",
       "      <td>20.000000</td>\n",
       "      <td>20.000000</td>\n",
       "      <td>20.000000</td>\n",
       "      <td>20.000000</td>\n",
       "    </tr>\n",
       "    <tr>\n",
       "      <th>mean</th>\n",
       "      <td>40.850000</td>\n",
       "      <td>6.437500</td>\n",
       "      <td>169.531250</td>\n",
       "      <td>7.125000</td>\n",
       "    </tr>\n",
       "    <tr>\n",
       "      <th>std</th>\n",
       "      <td>13.128013</td>\n",
       "      <td>3.933242</td>\n",
       "      <td>123.213093</td>\n",
       "      <td>1.831738</td>\n",
       "    </tr>\n",
       "    <tr>\n",
       "      <th>min</th>\n",
       "      <td>19.000000</td>\n",
       "      <td>0.000000</td>\n",
       "      <td>0.000000</td>\n",
       "      <td>3.000000</td>\n",
       "    </tr>\n",
       "    <tr>\n",
       "      <th>25%</th>\n",
       "      <td>31.000000</td>\n",
       "      <td>3.750000</td>\n",
       "      <td>87.687500</td>\n",
       "      <td>6.000000</td>\n",
       "    </tr>\n",
       "    <tr>\n",
       "      <th>50%</th>\n",
       "      <td>40.500000</td>\n",
       "      <td>6.437500</td>\n",
       "      <td>159.890625</td>\n",
       "      <td>7.125000</td>\n",
       "    </tr>\n",
       "    <tr>\n",
       "      <th>75%</th>\n",
       "      <td>53.750000</td>\n",
       "      <td>8.250000</td>\n",
       "      <td>212.500000</td>\n",
       "      <td>8.250000</td>\n",
       "    </tr>\n",
       "    <tr>\n",
       "      <th>max</th>\n",
       "      <td>61.000000</td>\n",
       "      <td>15.000000</td>\n",
       "      <td>500.000000</td>\n",
       "      <td>10.000000</td>\n",
       "    </tr>\n",
       "  </tbody>\n",
       "</table>\n",
       "</div>"
      ],
      "text/plain": [
       "             Age  Total_Purchases  Last_Purchase_Amount  Feedback_Score\n",
       "count  20.000000        20.000000             20.000000       20.000000\n",
       "mean   40.850000         6.437500            169.531250        7.125000\n",
       "std    13.128013         3.933242            123.213093        1.831738\n",
       "min    19.000000         0.000000              0.000000        3.000000\n",
       "25%    31.000000         3.750000             87.687500        6.000000\n",
       "50%    40.500000         6.437500            159.890625        7.125000\n",
       "75%    53.750000         8.250000            212.500000        8.250000\n",
       "max    61.000000        15.000000            500.000000       10.000000"
      ]
     },
     "execution_count": 43,
     "metadata": {},
     "output_type": "execute_result"
    }
   ],
   "source": [
    "df_3.describe()"
   ]
  },
  {
   "attachments": {},
   "cell_type": "markdown",
   "metadata": {},
   "source": [
    "### **Question 7: Convert Registration Date to Uniform Format**\n",
    "\n",
    "- Convert the `Registration_Date` column to a uniform date format (`YYYY-MM-DD`):\n",
    "  - *(Hint: Use the `pd.to_datetime()` function to handle different date formats)*\n",
    "  - Handle any parsing errors gracefully using the `errors` parameter.\n"
   ]
  },
  {
   "cell_type": "code",
   "execution_count": 45,
   "metadata": {},
   "outputs": [],
   "source": [
    "df_cleaned = df_3.copy()\n",
    "df_cleaned ['Registration_Date'] = pd.to_datetime(df_cleaned ['Registration_Date'], errors='coerce')\n",
    "\n",
    "# Save the cleaned DataFrame to an Excel file\n",
    "df_cleaned.to_excel('cleaned_data.xlsx', index=False)\n"
   ]
  },
  {
   "cell_type": "markdown",
   "metadata": {},
   "source": [
    "# Manual Cluster"
   ]
  },
  {
   "attachments": {},
   "cell_type": "markdown",
   "metadata": {},
   "source": [
    "### **Question 8: Create Age Groups**\n",
    "\n",
    "- Create a new column called `Age_Group` that classifies customers into the following groups:\n",
    "  - `Under 18`\n",
    "  - `18-30`\n",
    "  - `31-50`\n",
    "  - `51+`\n",
    "  - *(Hint: Use the `pd.cut(column, bins=[0,18,30,50,np.inf], labels =['Under 18', '18-30','31-50','51+'])` function to bin the ages into groups)*\n",
    "\n"
   ]
  },
  {
   "cell_type": "code",
   "execution_count": 46,
   "metadata": {},
   "outputs": [
    {
     "data": {
      "text/html": [
       "<div>\n",
       "<style scoped>\n",
       "    .dataframe tbody tr th:only-of-type {\n",
       "        vertical-align: middle;\n",
       "    }\n",
       "\n",
       "    .dataframe tbody tr th {\n",
       "        vertical-align: top;\n",
       "    }\n",
       "\n",
       "    .dataframe thead th {\n",
       "        text-align: right;\n",
       "    }\n",
       "</style>\n",
       "<table border=\"1\" class=\"dataframe\">\n",
       "  <thead>\n",
       "    <tr style=\"text-align: right;\">\n",
       "      <th></th>\n",
       "      <th>CustomerID</th>\n",
       "      <th>First_Name</th>\n",
       "      <th>Last_Name</th>\n",
       "      <th>Phone_Number</th>\n",
       "      <th>Age</th>\n",
       "      <th>Email</th>\n",
       "      <th>Total_Purchases</th>\n",
       "      <th>Last_Purchase_Amount</th>\n",
       "      <th>Gender</th>\n",
       "      <th>Feedback_Score</th>\n",
       "      <th>Registration_Date</th>\n",
       "      <th>Age_Group</th>\n",
       "    </tr>\n",
       "  </thead>\n",
       "  <tbody>\n",
       "    <tr>\n",
       "      <th>0</th>\n",
       "      <td>1001</td>\n",
       "      <td>Frodo</td>\n",
       "      <td>Baggins</td>\n",
       "      <td>1235455421</td>\n",
       "      <td>56</td>\n",
       "      <td>frodo.baggins@example.com</td>\n",
       "      <td>5.0</td>\n",
       "      <td>100.5</td>\n",
       "      <td>Male</td>\n",
       "      <td>8.0</td>\n",
       "      <td>2021-03-16</td>\n",
       "      <td>51+</td>\n",
       "    </tr>\n",
       "  </tbody>\n",
       "</table>\n",
       "</div>"
      ],
      "text/plain": [
       "  CustomerID First_Name Last_Name Phone_Number  Age  \\\n",
       "0       1001      Frodo   Baggins   1235455421   56   \n",
       "\n",
       "                       Email  Total_Purchases  Last_Purchase_Amount Gender  \\\n",
       "0  frodo.baggins@example.com              5.0                 100.5   Male   \n",
       "\n",
       "   Feedback_Score Registration_Date Age_Group  \n",
       "0             8.0        2021-03-16       51+  "
      ]
     },
     "execution_count": 46,
     "metadata": {},
     "output_type": "execute_result"
    }
   ],
   "source": [
    "# Your code here\n",
    "customer_data = df_cleaned.copy()\n",
    "\n",
    "\n",
    "# Tambahkan kolum Age_Group berdasarkan julat umur\n",
    "customer_data['Age_Group'] = pd.cut(\n",
    "    customer_data['Age'], \n",
    "    bins=[0, 18, 30, 50, np.inf], \n",
    "    labels=['Under 18', '18-30', '31-50', '51+']\n",
    ")\n",
    "customer_data.head(1)"
   ]
  },
  {
   "cell_type": "code",
   "execution_count": null,
   "metadata": {},
   "outputs": [],
   "source": []
  },
  {
   "cell_type": "code",
   "execution_count": null,
   "metadata": {},
   "outputs": [],
   "source": []
  },
  {
   "attachments": {},
   "cell_type": "markdown",
   "metadata": {},
   "source": [
    "### **Question 9: Filter VIP Customers**\n",
    "\n",
    "- Filter the dataset to display only the customers who are marked as `VIP` and have made more than 5 `Total_Purchases`.\n",
    "  - *(Hint: Use boolean indexing  OR `.loc` with conditions to filter the rows)*\n"
   ]
  },
  {
   "cell_type": "code",
   "execution_count": 47,
   "metadata": {},
   "outputs": [],
   "source": [
    "# Tambahkan kolum Satisfaction_Level menggunakan pd.cut()\n",
    "customer_data['VIP'] = pd.cut(\n",
    "    customer_data['Total_Purchases'],\n",
    "    bins=[-np.inf,5, np.inf],\n",
    "    labels=['', 'VIP'],\n",
    "    right=False\n",
    ")\n"
   ]
  },
  {
   "attachments": {},
   "cell_type": "markdown",
   "metadata": {},
   "source": [
    "### **Question 10: Create Customer Satisfaction Column(Optional)**\n",
    "\n",
    "- Based on the `Feedback_Score` column, create a new column called `Satisfaction_Level`:\n",
    "  - `'High'` if the score is 8 or above\n",
    "  - `'Medium'` if the score is between 5 and 7\n",
    "  - `'Low'` if the score is below 5\n",
    "  - *(Hint: Use `pd.cut()` or `np.where()` to create the new column)*\n",
    "\n",
    "```python\n",
    "# Create Satisfaction_Level column based on Feedback_Score\n",
    "df['Satisfaction_Level'] = pd.cut(df['Feedback_Score'], bins=[-np.inf, 5, 8, np.inf], labels=['Low', 'Medium', 'High'])"
   ]
  },
  {
   "cell_type": "code",
   "execution_count": 48,
   "metadata": {},
   "outputs": [],
   "source": [
    "# Tambahkan kolum Satisfaction_Level menggunakan pd.cut()\n",
    "customer_data['Satisfaction_Level'] = pd.cut(\n",
    "    customer_data['Feedback_Score'],\n",
    "    bins=[-np.inf, 5, 8, np.inf],\n",
    "    labels=['Low', 'Medium', 'High'],\n",
    "    right=False  # Supaya nilai tepat 5 masuk ke kategori 'Medium'\n",
    ")\n",
    "\n"
   ]
  },
  {
   "cell_type": "code",
   "execution_count": null,
   "metadata": {},
   "outputs": [],
   "source": []
  },
  {
   "attachments": {},
   "cell_type": "markdown",
   "metadata": {},
   "source": [
    "### **Question 11: Calculate Total Revenue per Customer**\n",
    "\n",
    "- Create a new column called `Total_Revenue` by multiplying `Total_Purchases` with `Last_Purchase_Amount` for each customer.\n",
    "  - *(Hint: Make sure to convert `Last_Purchase_Amount` to numeric before performing the calculation)*\n",
    "  - *(Hint: You can use `pd.to_numeric()`)*\n",
    "\n"
   ]
  },
  {
   "cell_type": "code",
   "execution_count": 49,
   "metadata": {},
   "outputs": [],
   "source": [
    "# Mengira Total Revenue dengan darabkan Total_Purchases dan Last_Purchase_Amount\n",
    "customer_data['Total_Revenue'] = customer_data['Total_Purchases'] * customer_data['Last_Purchase_Amount']\n"
   ]
  },
  {
   "cell_type": "code",
   "execution_count": null,
   "metadata": {},
   "outputs": [],
   "source": []
  },
  {
   "attachments": {},
   "cell_type": "markdown",
   "metadata": {},
   "source": [
    "### **Question 12: Find Average Age of High-Satisfaction Customers**\n",
    "\n",
    "- Calculate the average age of customers who have a `Satisfaction_Level` of `'High'`.\n",
    "  - *(Hint: Use boolean indexing to filter rows based on the condition and then calculate the average)*\n",
    "\n"
   ]
  },
  {
   "cell_type": "code",
   "execution_count": 50,
   "metadata": {},
   "outputs": [
    {
     "data": {
      "text/html": [
       "<div>\n",
       "<style scoped>\n",
       "    .dataframe tbody tr th:only-of-type {\n",
       "        vertical-align: middle;\n",
       "    }\n",
       "\n",
       "    .dataframe tbody tr th {\n",
       "        vertical-align: top;\n",
       "    }\n",
       "\n",
       "    .dataframe thead th {\n",
       "        text-align: right;\n",
       "    }\n",
       "</style>\n",
       "<table border=\"1\" class=\"dataframe\">\n",
       "  <thead>\n",
       "    <tr style=\"text-align: right;\">\n",
       "      <th></th>\n",
       "      <th>CustomerID</th>\n",
       "      <th>First_Name</th>\n",
       "      <th>Last_Name</th>\n",
       "      <th>Phone_Number</th>\n",
       "      <th>Age</th>\n",
       "      <th>Email</th>\n",
       "      <th>Total_Purchases</th>\n",
       "      <th>Last_Purchase_Amount</th>\n",
       "      <th>Gender</th>\n",
       "      <th>Feedback_Score</th>\n",
       "      <th>Registration_Date</th>\n",
       "      <th>Age_Group</th>\n",
       "      <th>VIP</th>\n",
       "      <th>Satisfaction_Level</th>\n",
       "      <th>Total_Revenue</th>\n",
       "    </tr>\n",
       "  </thead>\n",
       "  <tbody>\n",
       "    <tr>\n",
       "      <th>0</th>\n",
       "      <td>1001</td>\n",
       "      <td>Frodo</td>\n",
       "      <td>Baggins</td>\n",
       "      <td>1235455421</td>\n",
       "      <td>56</td>\n",
       "      <td>frodo.baggins@example.com</td>\n",
       "      <td>5.0000</td>\n",
       "      <td>100.50000</td>\n",
       "      <td>Male</td>\n",
       "      <td>8.0</td>\n",
       "      <td>2021-03-16</td>\n",
       "      <td>51+</td>\n",
       "      <td>VIP</td>\n",
       "      <td>High</td>\n",
       "      <td>502.500000</td>\n",
       "    </tr>\n",
       "    <tr>\n",
       "      <th>1</th>\n",
       "      <td>1002</td>\n",
       "      <td>Abed</td>\n",
       "      <td>Nadir</td>\n",
       "      <td>1236439775</td>\n",
       "      <td>46</td>\n",
       "      <td>abed.nadir@example.com</td>\n",
       "      <td>3.0000</td>\n",
       "      <td>75.00000</td>\n",
       "      <td>Female</td>\n",
       "      <td>9.0</td>\n",
       "      <td>2020-01-21</td>\n",
       "      <td>31-50</td>\n",
       "      <td></td>\n",
       "      <td>High</td>\n",
       "      <td>225.000000</td>\n",
       "    </tr>\n",
       "    <tr>\n",
       "      <th>5</th>\n",
       "      <td>1006</td>\n",
       "      <td>Ron</td>\n",
       "      <td>Swanson</td>\n",
       "      <td>3047622467</td>\n",
       "      <td>38</td>\n",
       "      <td>ron.swanson@example.com</td>\n",
       "      <td>12.0000</td>\n",
       "      <td>300.00000</td>\n",
       "      <td>Male</td>\n",
       "      <td>10.0</td>\n",
       "      <td>2019-01-22</td>\n",
       "      <td>31-50</td>\n",
       "      <td>VIP</td>\n",
       "      <td>High</td>\n",
       "      <td>3600.000000</td>\n",
       "    </tr>\n",
       "    <tr>\n",
       "      <th>8</th>\n",
       "      <td>1009</td>\n",
       "      <td>Gandalf</td>\n",
       "      <td>Unknown</td>\n",
       "      <td>Na</td>\n",
       "      <td>40</td>\n",
       "      <td>gandalf.@example.com</td>\n",
       "      <td>6.4375</td>\n",
       "      <td>50.00000</td>\n",
       "      <td>Male</td>\n",
       "      <td>8.0</td>\n",
       "      <td>2021-05-06</td>\n",
       "      <td>31-50</td>\n",
       "      <td>VIP</td>\n",
       "      <td>High</td>\n",
       "      <td>321.875000</td>\n",
       "    </tr>\n",
       "    <tr>\n",
       "      <th>10</th>\n",
       "      <td>1011</td>\n",
       "      <td>Samwise</td>\n",
       "      <td>Gamgee</td>\n",
       "      <td>Unknown</td>\n",
       "      <td>28</td>\n",
       "      <td>samwise.gamgee@example.com</td>\n",
       "      <td>8.0000</td>\n",
       "      <td>150.25000</td>\n",
       "      <td>Female</td>\n",
       "      <td>9.0</td>\n",
       "      <td>2021-12-18</td>\n",
       "      <td>18-30</td>\n",
       "      <td>VIP</td>\n",
       "      <td>High</td>\n",
       "      <td>1202.000000</td>\n",
       "    </tr>\n",
       "    <tr>\n",
       "      <th>13</th>\n",
       "      <td>1014</td>\n",
       "      <td>Leslie</td>\n",
       "      <td>Knope</td>\n",
       "      <td>8766783469</td>\n",
       "      <td>57</td>\n",
       "      <td>leslie.knope@example.com</td>\n",
       "      <td>4.0000</td>\n",
       "      <td>90.00000</td>\n",
       "      <td>Male</td>\n",
       "      <td>10.0</td>\n",
       "      <td>2021-09-02</td>\n",
       "      <td>51+</td>\n",
       "      <td></td>\n",
       "      <td>High</td>\n",
       "      <td>360.000000</td>\n",
       "    </tr>\n",
       "    <tr>\n",
       "      <th>18</th>\n",
       "      <td>1019</td>\n",
       "      <td>Creed</td>\n",
       "      <td>Braton</td>\n",
       "      <td>Na</td>\n",
       "      <td>41</td>\n",
       "      <td>creed.braton@example.com</td>\n",
       "      <td>6.4375</td>\n",
       "      <td>169.53125</td>\n",
       "      <td>Male</td>\n",
       "      <td>9.0</td>\n",
       "      <td>2020-07-16</td>\n",
       "      <td>31-50</td>\n",
       "      <td>VIP</td>\n",
       "      <td>High</td>\n",
       "      <td>1091.357422</td>\n",
       "    </tr>\n",
       "  </tbody>\n",
       "</table>\n",
       "</div>"
      ],
      "text/plain": [
       "   CustomerID First_Name Last_Name Phone_Number  Age  \\\n",
       "0        1001      Frodo   Baggins   1235455421   56   \n",
       "1        1002       Abed     Nadir   1236439775   46   \n",
       "5        1006        Ron   Swanson   3047622467   38   \n",
       "8        1009    Gandalf   Unknown           Na   40   \n",
       "10       1011    Samwise    Gamgee      Unknown   28   \n",
       "13       1014     Leslie     Knope   8766783469   57   \n",
       "18       1019      Creed    Braton           Na   41   \n",
       "\n",
       "                         Email  Total_Purchases  Last_Purchase_Amount  Gender  \\\n",
       "0    frodo.baggins@example.com           5.0000             100.50000    Male   \n",
       "1       abed.nadir@example.com           3.0000              75.00000  Female   \n",
       "5      ron.swanson@example.com          12.0000             300.00000    Male   \n",
       "8         gandalf.@example.com           6.4375              50.00000    Male   \n",
       "10  samwise.gamgee@example.com           8.0000             150.25000  Female   \n",
       "13    leslie.knope@example.com           4.0000              90.00000    Male   \n",
       "18    creed.braton@example.com           6.4375             169.53125    Male   \n",
       "\n",
       "    Feedback_Score Registration_Date Age_Group  VIP Satisfaction_Level  \\\n",
       "0              8.0        2021-03-16       51+  VIP               High   \n",
       "1              9.0        2020-01-21     31-50                    High   \n",
       "5             10.0        2019-01-22     31-50  VIP               High   \n",
       "8              8.0        2021-05-06     31-50  VIP               High   \n",
       "10             9.0        2021-12-18     18-30  VIP               High   \n",
       "13            10.0        2021-09-02       51+                    High   \n",
       "18             9.0        2020-07-16     31-50  VIP               High   \n",
       "\n",
       "    Total_Revenue  \n",
       "0      502.500000  \n",
       "1      225.000000  \n",
       "5     3600.000000  \n",
       "8      321.875000  \n",
       "10    1202.000000  \n",
       "13     360.000000  \n",
       "18    1091.357422  "
      ]
     },
     "execution_count": 50,
     "metadata": {},
     "output_type": "execute_result"
    }
   ],
   "source": [
    "# Filter customers with 'High' Satisfaction_Level\n",
    "high_satisfaction_customers = customer_data[customer_data['Satisfaction_Level'] == 'High']\n",
    "high_satisfaction_customers\n"
   ]
  },
  {
   "cell_type": "code",
   "execution_count": 51,
   "metadata": {},
   "outputs": [
    {
     "data": {
      "text/plain": [
       "np.float64(43.714285714285715)"
      ]
     },
     "execution_count": 51,
     "metadata": {},
     "output_type": "execute_result"
    }
   ],
   "source": [
    "average_age_high_satisfaction = high_satisfaction_customers['Age'].mean()\n",
    "average_age_high_satisfaction"
   ]
  },
  {
   "attachments": {},
   "cell_type": "markdown",
   "metadata": {},
   "source": [
    "### **Question 13: Plot Age Distribution**\n",
    "\n",
    "- Create a histogram or KDE plot to visualize the distribution of customer ages.\n",
    "  - *(Hint: Use `sns.histplot()` or `sns.kdeplot()` from Seaborn to create the plot)*\n",
    "\n",
    "```python\n",
    "sns.histplot(column, kde=True)\n"
   ]
  },
  {
   "cell_type": "code",
   "execution_count": 58,
   "metadata": {},
   "outputs": [
    {
     "data": {
      "text/plain": [
       "Text(0.5, 0, 'Age')"
      ]
     },
     "execution_count": 58,
     "metadata": {},
     "output_type": "execute_result"
    },
    {
     "data": {
      "image/png": "[encoded data removed]",
      "text/plain": [
       "<Figure size 640x480 with 1 Axes>"
      ]
     },
     "metadata": {},
     "output_type": "display_data"
    }
   ],
   "source": [
    "sns.histplot(df['Age'], kde=True, bins=10, color='skyblue')\n",
    "plt.title('Age Distribution')\n",
    "plt.xlabel('Age')\n"
   ]
  },
  {
   "attachments": {},
   "cell_type": "markdown",
   "metadata": {},
   "source": [
    "### **Question 15: Scatter Plot of Age vs. Total Purchases**\n",
    "\n",
    "- Create a scatter plot to visualize the relationship between `Age` and `Total_Purchases`.\n",
    "  - *(Hint: Use `sns.scatterplot()` from Seaborn to create the scatter plot)*\n",
    "\n"
   ]
  },
  {
   "cell_type": "code",
   "execution_count": 61,
   "metadata": {},
   "outputs": [
    {
     "data": {
      "text/html": [
       "<div>\n",
       "<style scoped>\n",
       "    .dataframe tbody tr th:only-of-type {\n",
       "        vertical-align: middle;\n",
       "    }\n",
       "\n",
       "    .dataframe tbody tr th {\n",
       "        vertical-align: top;\n",
       "    }\n",
       "\n",
       "    .dataframe thead th {\n",
       "        text-align: right;\n",
       "    }\n",
       "</style>\n",
       "<table border=\"1\" class=\"dataframe\">\n",
       "  <thead>\n",
       "    <tr style=\"text-align: right;\">\n",
       "      <th></th>\n",
       "      <th>CustomerID</th>\n",
       "      <th>First_Name</th>\n",
       "      <th>Last_Name</th>\n",
       "      <th>Phone_Number</th>\n",
       "      <th>Age</th>\n",
       "      <th>Email</th>\n",
       "      <th>Total_Purchases</th>\n",
       "      <th>Last_Purchase_Amount</th>\n",
       "      <th>Gender</th>\n",
       "      <th>Feedback_Score</th>\n",
       "      <th>Registration_Date</th>\n",
       "      <th>Age_Group</th>\n",
       "      <th>VIP</th>\n",
       "      <th>Satisfaction_Level</th>\n",
       "      <th>Total_Revenue</th>\n",
       "    </tr>\n",
       "  </thead>\n",
       "  <tbody>\n",
       "    <tr>\n",
       "      <th>0</th>\n",
       "      <td>1001</td>\n",
       "      <td>Frodo</td>\n",
       "      <td>Baggins</td>\n",
       "      <td>1235455421</td>\n",
       "      <td>56</td>\n",
       "      <td>frodo.baggins@example.com</td>\n",
       "      <td>5.0000</td>\n",
       "      <td>100.50000</td>\n",
       "      <td>Male</td>\n",
       "      <td>8.000</td>\n",
       "      <td>2021-03-16</td>\n",
       "      <td>51+</td>\n",
       "      <td>VIP</td>\n",
       "      <td>High</td>\n",
       "      <td>502.500000</td>\n",
       "    </tr>\n",
       "    <tr>\n",
       "      <th>1</th>\n",
       "      <td>1002</td>\n",
       "      <td>Abed</td>\n",
       "      <td>Nadir</td>\n",
       "      <td>1236439775</td>\n",
       "      <td>46</td>\n",
       "      <td>abed.nadir@example.com</td>\n",
       "      <td>3.0000</td>\n",
       "      <td>75.00000</td>\n",
       "      <td>Female</td>\n",
       "      <td>9.000</td>\n",
       "      <td>2020-01-21</td>\n",
       "      <td>31-50</td>\n",
       "      <td></td>\n",
       "      <td>High</td>\n",
       "      <td>225.000000</td>\n",
       "    </tr>\n",
       "    <tr>\n",
       "      <th>2</th>\n",
       "      <td>1003</td>\n",
       "      <td>Walter</td>\n",
       "      <td>White</td>\n",
       "      <td>7066950392</td>\n",
       "      <td>32</td>\n",
       "      <td>walter./white@example.com</td>\n",
       "      <td>7.0000</td>\n",
       "      <td>250.00000</td>\n",
       "      <td>Male</td>\n",
       "      <td>6.000</td>\n",
       "      <td>2021-08-13</td>\n",
       "      <td>31-50</td>\n",
       "      <td>VIP</td>\n",
       "      <td>Medium</td>\n",
       "      <td>1750.000000</td>\n",
       "    </tr>\n",
       "    <tr>\n",
       "      <th>3</th>\n",
       "      <td>1004</td>\n",
       "      <td>Dwight</td>\n",
       "      <td>Schrute</td>\n",
       "      <td>1235432345</td>\n",
       "      <td>60</td>\n",
       "      <td>dwight.schrute@example.com</td>\n",
       "      <td>6.4375</td>\n",
       "      <td>169.53125</td>\n",
       "      <td>Female</td>\n",
       "      <td>7.125</td>\n",
       "      <td>2019-10-04</td>\n",
       "      <td>51+</td>\n",
       "      <td>VIP</td>\n",
       "      <td>Medium</td>\n",
       "      <td>1091.357422</td>\n",
       "    </tr>\n",
       "    <tr>\n",
       "      <th>4</th>\n",
       "      <td>1005</td>\n",
       "      <td>Jon</td>\n",
       "      <td>Snow</td>\n",
       "      <td>8766783469</td>\n",
       "      <td>25</td>\n",
       "      <td>jon.snow@example.com</td>\n",
       "      <td>10.0000</td>\n",
       "      <td>500.00000</td>\n",
       "      <td>Female</td>\n",
       "      <td>7.000</td>\n",
       "      <td>2020-04-04</td>\n",
       "      <td>18-30</td>\n",
       "      <td>VIP</td>\n",
       "      <td>Medium</td>\n",
       "      <td>5000.000000</td>\n",
       "    </tr>\n",
       "  </tbody>\n",
       "</table>\n",
       "</div>"
      ],
      "text/plain": [
       "  CustomerID First_Name Last_Name Phone_Number  Age  \\\n",
       "0       1001      Frodo   Baggins   1235455421   56   \n",
       "1       1002       Abed     Nadir   1236439775   46   \n",
       "2       1003     Walter     White   7066950392   32   \n",
       "3       1004     Dwight   Schrute   1235432345   60   \n",
       "4       1005        Jon      Snow   8766783469   25   \n",
       "\n",
       "                        Email  Total_Purchases  Last_Purchase_Amount  Gender  \\\n",
       "0   frodo.baggins@example.com           5.0000             100.50000    Male   \n",
       "1      abed.nadir@example.com           3.0000              75.00000  Female   \n",
       "2   walter./white@example.com           7.0000             250.00000    Male   \n",
       "3  dwight.schrute@example.com           6.4375             169.53125  Female   \n",
       "4        jon.snow@example.com          10.0000             500.00000  Female   \n",
       "\n",
       "   Feedback_Score Registration_Date Age_Group  VIP Satisfaction_Level  \\\n",
       "0           8.000        2021-03-16       51+  VIP               High   \n",
       "1           9.000        2020-01-21     31-50                    High   \n",
       "2           6.000        2021-08-13     31-50  VIP             Medium   \n",
       "3           7.125        2019-10-04       51+  VIP             Medium   \n",
       "4           7.000        2020-04-04     18-30  VIP             Medium   \n",
       "\n",
       "   Total_Revenue  \n",
       "0     502.500000  \n",
       "1     225.000000  \n",
       "2    1750.000000  \n",
       "3    1091.357422  \n",
       "4    5000.000000  "
      ]
     },
     "execution_count": 61,
     "metadata": {},
     "output_type": "execute_result"
    }
   ],
   "source": [
    "customer_data.head()"
   ]
  },
  {
   "cell_type": "code",
   "execution_count": 69,
   "metadata": {},
   "outputs": [
    {
     "data": {
      "image/png": "[encoded data removed]",
      "text/plain": [
       "<Figure size 640x480 with 1 Axes>"
      ]
     },
     "metadata": {},
     "output_type": "display_data"
    }
   ],
   "source": [
    "import matplotlib.pyplot as plt\n",
    "import seaborn as sns\n",
    "\n",
    "# Assuming customer_data is your DataFrame\n",
    "sns.scatterplot(x=\"Age\", y=\"Total_Purchases\", data=customer_data, color='blue')\n",
    "\n",
    "# Adding title and labels\n",
    "plt.title(\"Scatter Plot of Age vs Total Purchases\")\n",
    "plt.xlabel(\"Age\")\n",
    "plt.ylabel(\"Total Purchases\")\n",
    "\n",
    "# Show the plot\n",
    "plt.show()\n"
   ]
  },
  {
   "cell_type": "code",
   "execution_count": 73,
   "metadata": {},
   "outputs": [
    {
     "data": {
      "image/png": "[encoded data removed]",
      "text/plain": [
       "<Figure size 1000x800 with 2 Axes>"
      ]
     },
     "metadata": {},
     "output_type": "display_data"
    }
   ],
   "source": [
    "import matplotlib.pyplot as plt\n",
    "import seaborn as sns\n",
    "\n",
    "# Calculate the correlation matrix\n",
    "correlation_matrix = customer_data[['Age', 'Total_Purchases']].corr()\n",
    "\n",
    "# Plot heatmap for correlation\n",
    "plt.figure(figsize=(10, 8))\n",
    "sns.heatmap(correlation_matrix, annot=True, cmap='coolwarm', linewidths=0.5)\n",
    "\n",
    "# Adding a title\n",
    "plt.title(\"Heatmap Corr between Age and Total Purchases\")\n",
    "plt.show()\n"
   ]
  },
  {
   "attachments": {},
   "cell_type": "markdown",
   "metadata": {},
   "source": [
    "### **Question 17: Trend of Average Feedback Score Over Time**\n",
    "\n",
    "- Using the `Registration_Date`, create a line plot to show how the average `Feedback_Score` has changed over time.\n",
    "  - *(Hint: Use `sns.relplot()` with `kind=\"line\"` from Seaborn and group by `Registration_Date`, by taking mean of `Feedback_SCORE`)*\n",
    "\n"
   ]
  },
  {
   "cell_type": "code",
   "execution_count": 75,
   "metadata": {},
   "outputs": [
    {
     "data": {
      "image/png": "[encoded data removed]",
      "text/plain": [
       "<Figure size 1200x600 with 1 Axes>"
      ]
     },
     "metadata": {},
     "output_type": "display_data"
    }
   ],
   "source": [
    "# Group by Registration_Date and calculate the average Feedback_Score\n",
    "average_feedback = customer_data.groupby('Registration_Date')['Feedback_Score'].mean().reset_index()\n",
    "\n",
    "\n",
    "# Create a line plot using sns.relplot\n",
    "sns.relplot(x='Registration_Date', y='Feedback_Score', data=average_feedback, kind=\"line\", aspect=2, height=6)\n",
    "\n",
    "# Add title and labels\n",
    "plt.title(\"Trend of Average Feedback Score Over Time\")\n",
    "plt.xlabel(\"Registration Date\")\n",
    "plt.ylabel(\"Average Feedback Score\")\n",
    "\n",
    "# Show the plot\n",
    "plt.show()"
   ]
  },
  {
   "cell_type": "code",
   "execution_count": 76,
   "metadata": {},
   "outputs": [
    {
     "data": {
      "text/html": [
       "<div>\n",
       "<style scoped>\n",
       "    .dataframe tbody tr th:only-of-type {\n",
       "        vertical-align: middle;\n",
       "    }\n",
       "\n",
       "    .dataframe tbody tr th {\n",
       "        vertical-align: top;\n",
       "    }\n",
       "\n",
       "    .dataframe thead th {\n",
       "        text-align: right;\n",
       "    }\n",
       "</style>\n",
       "<table border=\"1\" class=\"dataframe\">\n",
       "  <thead>\n",
       "    <tr style=\"text-align: right;\">\n",
       "      <th></th>\n",
       "      <th>Registration_Date</th>\n",
       "      <th>Feedback_Score</th>\n",
       "    </tr>\n",
       "  </thead>\n",
       "  <tbody>\n",
       "    <tr>\n",
       "      <th>0</th>\n",
       "      <td>2019-01-22</td>\n",
       "      <td>10.0000</td>\n",
       "    </tr>\n",
       "    <tr>\n",
       "      <th>1</th>\n",
       "      <td>2019-07-09</td>\n",
       "      <td>7.1250</td>\n",
       "    </tr>\n",
       "    <tr>\n",
       "      <th>2</th>\n",
       "      <td>2019-09-10</td>\n",
       "      <td>5.0000</td>\n",
       "    </tr>\n",
       "    <tr>\n",
       "      <th>3</th>\n",
       "      <td>2019-10-04</td>\n",
       "      <td>7.1250</td>\n",
       "    </tr>\n",
       "    <tr>\n",
       "      <th>4</th>\n",
       "      <td>2020-01-21</td>\n",
       "      <td>9.0000</td>\n",
       "    </tr>\n",
       "    <tr>\n",
       "      <th>5</th>\n",
       "      <td>2020-04-04</td>\n",
       "      <td>7.0000</td>\n",
       "    </tr>\n",
       "    <tr>\n",
       "      <th>6</th>\n",
       "      <td>2020-04-19</td>\n",
       "      <td>6.0000</td>\n",
       "    </tr>\n",
       "    <tr>\n",
       "      <th>7</th>\n",
       "      <td>2020-05-25</td>\n",
       "      <td>7.0000</td>\n",
       "    </tr>\n",
       "    <tr>\n",
       "      <th>8</th>\n",
       "      <td>2020-07-16</td>\n",
       "      <td>9.0000</td>\n",
       "    </tr>\n",
       "    <tr>\n",
       "      <th>9</th>\n",
       "      <td>2020-11-17</td>\n",
       "      <td>6.0000</td>\n",
       "    </tr>\n",
       "    <tr>\n",
       "      <th>10</th>\n",
       "      <td>2020-11-30</td>\n",
       "      <td>4.0000</td>\n",
       "    </tr>\n",
       "    <tr>\n",
       "      <th>11</th>\n",
       "      <td>2021-01-17</td>\n",
       "      <td>7.1250</td>\n",
       "    </tr>\n",
       "    <tr>\n",
       "      <th>12</th>\n",
       "      <td>2021-03-16</td>\n",
       "      <td>8.0000</td>\n",
       "    </tr>\n",
       "    <tr>\n",
       "      <th>13</th>\n",
       "      <td>2021-04-11</td>\n",
       "      <td>7.0000</td>\n",
       "    </tr>\n",
       "    <tr>\n",
       "      <th>14</th>\n",
       "      <td>2021-05-06</td>\n",
       "      <td>8.0000</td>\n",
       "    </tr>\n",
       "    <tr>\n",
       "      <th>15</th>\n",
       "      <td>2021-08-13</td>\n",
       "      <td>6.0000</td>\n",
       "    </tr>\n",
       "    <tr>\n",
       "      <th>16</th>\n",
       "      <td>2021-08-15</td>\n",
       "      <td>5.0625</td>\n",
       "    </tr>\n",
       "    <tr>\n",
       "      <th>17</th>\n",
       "      <td>2021-09-02</td>\n",
       "      <td>10.0000</td>\n",
       "    </tr>\n",
       "    <tr>\n",
       "      <th>18</th>\n",
       "      <td>2021-12-18</td>\n",
       "      <td>9.0000</td>\n",
       "    </tr>\n",
       "  </tbody>\n",
       "</table>\n",
       "</div>"
      ],
      "text/plain": [
       "   Registration_Date  Feedback_Score\n",
       "0         2019-01-22         10.0000\n",
       "1         2019-07-09          7.1250\n",
       "2         2019-09-10          5.0000\n",
       "3         2019-10-04          7.1250\n",
       "4         2020-01-21          9.0000\n",
       "5         2020-04-04          7.0000\n",
       "6         2020-04-19          6.0000\n",
       "7         2020-05-25          7.0000\n",
       "8         2020-07-16          9.0000\n",
       "9         2020-11-17          6.0000\n",
       "10        2020-11-30          4.0000\n",
       "11        2021-01-17          7.1250\n",
       "12        2021-03-16          8.0000\n",
       "13        2021-04-11          7.0000\n",
       "14        2021-05-06          8.0000\n",
       "15        2021-08-13          6.0000\n",
       "16        2021-08-15          5.0625\n",
       "17        2021-09-02         10.0000\n",
       "18        2021-12-18          9.0000"
      ]
     },
     "execution_count": 76,
     "metadata": {},
     "output_type": "execute_result"
    }
   ],
   "source": [
    "average_feedback"
   ]
  },
  {
   "attachments": {},
   "cell_type": "markdown",
   "metadata": {},
   "source": [
    "## **Project Summary**\n",
    "\n",
    "### 1. **Initial Data Exploration**:\n",
    "   - Load the dataset and explore its structure.\n",
    "   - Use functions like `.info()`, `.describe()`, and `.head()` to get insights into the data.\n",
    "   - Identify potential issues with missing values, inconsistent formats, and incorrect data types.\n",
    "\n",
    "### 2. **Data Cleaning Tasks**:\n",
    "   - Remove duplicate records to ensure data accuracy.\n",
    "   - Fix phone numbers by standardizing their format.\n",
    "   - Handle missing data by filling in appropriate values or dropping rows.\n",
    "   - Standardize columns like `Gender` and `Customer_Type` to ensure consistency.\n",
    "   - Convert the `Registration_Date` column into a uniform date format.\n",
    "   - Create age groups by binning the `Age` column into predefined categories.\n",
    "\n",
    "### 3. **Data Analysis**:\n",
    "   - Calculate total revenue per customer by multiplying `Total_Purchases` with `Last_Purchase_Amount`.\n",
    "   - Filter VIP customers who have made more than 5 purchases.\n",
    "   - Create a new `Satisfaction_Level` column based on the `Feedback_Score` (Low, Medium, High).\n",
    "   - Find the average age of customers with a high satisfaction level.\n",
    "\n",
    "### 4. **Data Visualization**:\n",
    "   - Use Seaborn to create various plots:\n",
    "     - **Histogram/KDE** to visualize the distribution of customer ages.\n",
    "     - **Bar plot** to compare total purchases and revenue across customer types.\n",
    "     - **Scatter plot** to analyze the relationship between age and total purchases.\n",
    "     - **Line plot** (using `relplot`) to show the trend of average feedback scores over time.\n",
    "\n",
    "---\n",
    "\n",
    "This project covers a comprehensive range of **data cleaning**, **analysis**, and **visualization** tasks, giving you hands-on experience with real-world data handling and reporting."
   ]
  }
 ],
 "metadata": {
  "anaconda-cloud": {},
  "colab": {
   "provenance": []
  },
  "kernelspec": {
   "display_name": "Python 3 (ipykernel)",
   "language": "python",
   "name": "python3"
  },
  "language_info": {
   "codemirror_mode": {
    "name": "ipython",
    "version": 3
   },
   "file_extension": ".py",
   "mimetype": "text/x-python",
   "name": "python",
   "nbconvert_exporter": "python",
   "pygments_lexer": "ipython3",
   "version": "3.13.0"
  },
  "vscode": {
   "interpreter": {
    "hash": "81794d4967e6c3204c66dcd87b604927b115b27c00565d3d43f05ba2f3a2cb0d"
   }
  }
 },
 "nbformat": 4,
 "nbformat_minor": 4
}
