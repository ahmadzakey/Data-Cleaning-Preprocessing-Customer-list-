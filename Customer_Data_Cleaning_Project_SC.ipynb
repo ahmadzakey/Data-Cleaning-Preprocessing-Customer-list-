{
 "cells": [
  {
   "attachments": {},
   "cell_type": "markdown",
   "metadata": {
    "id": "KhFxDA8C3DCy"
   },
   "source": [
    "<img src=\"images/Peoplelogy-Logo.png\" height=100 align=left>\n",
    "<img src=\"images/python-logo.png\" height=100 align=right>"
   ]
  },
  {
   "attachments": {},
   "cell_type": "markdown",
   "metadata": {
    "id": "H1EBGU3D3KK0"
   },
   "source": [
    "### Jupyter short keys\n",
    "\n",
    "These are the most common used short keys:\n",
    "\n",
    "- Esc + a -- Open a new cell above\n",
    "- Esc + b -- Open a new cell below\n",
    "- Shift + Enter -- Run the cell, and go to next one\n",
    "- Ctrl + Enter -- Run the cell and stay there\n",
    "- Alt + Enter -- Run the cell, and make a new one (Option-key for Mac)\n",
    "- Ctrl + / -- Comment or Uncomment your selection\n",
    "- Esc + m -- Change cell type into Markdown (text modus). Then run again with Crtl+Enter\n",
    "- Esc + y -- Change cell type into Code (code modus). Then run again with Crtl+Enter\n",
    "\n",
    "Let's try them out and get familiar."
   ]
  },
  {
   "attachments": {},
   "cell_type": "markdown",
   "metadata": {
    "id": "zmlLhbxH3DC2"
   },
   "source": [
    "\n",
    "<img src=\"images/Data_Cleaning.png\"  align=left>"
   ]
  },
  {
   "attachments": {},
   "cell_type": "markdown",
   "metadata": {
    "id": "TJpzm_0t3DC2"
   },
   "source": [
    "## **Project Overview: Customer Data Cleaning, Analysis, and Visualization**\n",
    "\n",
    "In this project, you will work with a customer dataset and perform various **data cleaning**, **analysis**, and **visualization** tasks. The goal is to clean and standardize the data, conduct basic analysis, and visualize key trends and relationships in the data.\n",
    "\n",
    "### **Objectives**:\n",
    "- **Data Cleaning**: Handle missing values, standardize columns, fix inconsistencies, and remove duplicates.\n",
    "- **Data Analysis**: Perform basic calculations such as total revenue and find insights from the dataset (e.g., average customer age).\n",
    "- **Data Visualization**: Create visualizations using Seaborn to explore trends and relationships between different variables.\n",
    "\n",
    "### **Dataset Overview**:\n",
    "The dataset contains customer information with the following key columns:\n",
    "- `CustomerID`: Unique identifier for each customer.\n",
    "- `Name`: Name of the customer.\n",
    "- `Phone_Number`: Contact number of the customer (may contain inconsistencies).\n",
    "- `Email`: Email address of the customer (may contain missing values).\n",
    "- `Department`: The department where the customer is associated.\n",
    "- `Experience`: Number of years of experience of the customer.\n",
    "- `Age`: Age of the customer (may contain unrealistic values).\n",
    "- `Registration_Date`: Date when the customer registered (may have inconsistent formats).\n",
    "- `Customer_Type`: Type of customer (e.g., Individual, VIP) with potential typos.\n",
    "- `Total_Purchases`: Number of purchases made by the customer (may contain missing values).\n",
    "- `Last_Purchase_Amount`: Amount spent on the last purchase (may contain dollar signs and commas).\n",
    "- `Feedback_Score`: Customer feedback score on a scale of 1-10 (may contain missing values).\n",
    "- `Gender`: Gender of the customer (may contain inconsistent values).\n",
    "\n",
    "### **Project Structure**:\n",
    "\n",
    "1. **Data Cleaning Tasks**:  \n",
    "   You will handle missing data, standardize columns, remove duplicates, and correct inconsistencies in various columns such as `Phone_Number`, `Gender`, `Customer_Type`, and `Last_Purchase_Amount`.\n",
    "\n",
    "2. **Data Analysis**:  \n",
    "   Perform analysis tasks such as calculating total revenue per customer and determining the average age of high-satisfaction customers.\n",
    "\n",
    "3. **Data Visualization**:  \n",
    "   Create visualizations to explore trends in the dataset, such as the distribution of customer ages, the relationship between age and total purchases, and the average number of purchases by customer type.\n",
    "\n",
    "---\n",
    "\n",
    "### **Instructions**:\n",
    "- Each question is structured step by step. Follow the instructions for each task and write your code in the provided cells.\n",
    "- Be sure to run each cell after writing your solution.\n",
    "- For visualization tasks, use **Seaborn** and **Matplotlib** to create the required plots.\n",
    "\n",
    "---\n",
    "\n",
    "### **Good Luck!**\n",
    "\n",
    "This project will give you practical experience with data cleaning, analysis, and visualization in Python. You will learn how to handle real-world messy data and extract meaningful insights from it."
   ]
  },
  {
   "cell_type": "markdown",
   "metadata": {},
   "source": [
    "### Notes data store\n",
    "1) df data asal load data\n",
    "2) df1 = already remove Duplicated ( SO now im at this step ) \n",
    "3) df2\n",
    "4) df3\n",
    "5) df4\n",
    "6) df5\n",
    "7) df_cleaned make a save excel file\n",
    "8) using df_cleaned make a cluster and visualization (Analysis) - ready for analysis using this store\n"
   ]
  },
  {
   "attachments": {},
   "cell_type": "markdown",
   "metadata": {},
   "source": [
    "### Import the necessary packages\n"
   ]
  },
  {
   "cell_type": "code",
   "execution_count": 1,
   "metadata": {
    "id": "viah1BQSArvf"
   },
   "outputs": [],
   "source": [
    "import pandas as pd\n",
    "import numpy as np \n",
    "import seaborn as sns \n",
    "import matplotlib.pyplot as plt  "
   ]
  },
  {
   "attachments": {},
   "cell_type": "markdown",
   "metadata": {
    "id": "m6Yubugm3DDB"
   },
   "source": [
    "## **Initial Data Exploration and Understanding**\n",
    "\n",
    "Before jumping into the data cleaning tasks, it’s important to load the dataset, explore its structure, and identify any initial issues.\n",
    "\n",
    "---\n",
    "\n",
    "### **Question 0.1: Load the Dataset**\n",
    "\n",
    "- Load the CSV file into a pandas DataFrame and inspect the first few rows to get an initial understanding of the data.\n",
    "`CSV Name: Call_List.csv`"
   ]
  },
  {
   "cell_type": "code",
   "execution_count": 2,
   "metadata": {
    "id": "QcfLmfTF87Gf"
   },
   "outputs": [
    {
     "data": {
      "text/html": [
       "<div>\n",
       "<style scoped>\n",
       "    .dataframe tbody tr th:only-of-type {\n",
       "        vertical-align: middle;\n",
       "    }\n",
       "\n",
       "    .dataframe tbody tr th {\n",
       "        vertical-align: top;\n",
       "    }\n",
       "\n",
       "    .dataframe thead th {\n",
       "        text-align: right;\n",
       "    }\n",
       "</style>\n",
       "<table border=\"1\" class=\"dataframe\">\n",
       "  <thead>\n",
       "    <tr style=\"text-align: right;\">\n",
       "      <th></th>\n",
       "      <th>CustomerID</th>\n",
       "      <th>First_Name</th>\n",
       "      <th>Last_Name</th>\n",
       "      <th>Phone_Number</th>\n",
       "      <th>Age</th>\n",
       "      <th>Email</th>\n",
       "      <th>Total_Purchases</th>\n",
       "      <th>Last_Purchase_Amount</th>\n",
       "      <th>Gender</th>\n",
       "      <th>Feedback_Score</th>\n",
       "      <th>Registration_Date</th>\n",
       "    </tr>\n",
       "  </thead>\n",
       "  <tbody>\n",
       "    <tr>\n",
       "      <th>0</th>\n",
       "      <td>1001</td>\n",
       "      <td>Frodo</td>\n",
       "      <td>Baggins</td>\n",
       "      <td>123-545-5421</td>\n",
       "      <td>56</td>\n",
       "      <td>frodo.baggins@example.com</td>\n",
       "      <td>5.0</td>\n",
       "      <td>$100.50</td>\n",
       "      <td>M</td>\n",
       "      <td>8.0</td>\n",
       "      <td>03/16/2021</td>\n",
       "    </tr>\n",
       "    <tr>\n",
       "      <th>1</th>\n",
       "      <td>1002</td>\n",
       "      <td>Abed</td>\n",
       "      <td>Nadir</td>\n",
       "      <td>123/643/9775</td>\n",
       "      <td>46</td>\n",
       "      <td>abed.nadir@example.com</td>\n",
       "      <td>3.0</td>\n",
       "      <td>75</td>\n",
       "      <td>F</td>\n",
       "      <td>9.0</td>\n",
       "      <td>01/21/2020</td>\n",
       "    </tr>\n",
       "    <tr>\n",
       "      <th>2</th>\n",
       "      <td>1003</td>\n",
       "      <td>Walter</td>\n",
       "      <td>/White</td>\n",
       "      <td>7066950392</td>\n",
       "      <td>32</td>\n",
       "      <td>walter./white@example.com</td>\n",
       "      <td>7.0</td>\n",
       "      <td>$250.00</td>\n",
       "      <td>Male</td>\n",
       "      <td>6.0</td>\n",
       "      <td>08/13/2021</td>\n",
       "    </tr>\n",
       "    <tr>\n",
       "      <th>3</th>\n",
       "      <td>1004</td>\n",
       "      <td>Dwight</td>\n",
       "      <td>Schrute</td>\n",
       "      <td>123-543-2345</td>\n",
       "      <td>60</td>\n",
       "      <td>dwight.schrute@example.com</td>\n",
       "      <td>NaN</td>\n",
       "      <td>NaN</td>\n",
       "      <td>Female</td>\n",
       "      <td>NaN</td>\n",
       "      <td>10/04/2019</td>\n",
       "    </tr>\n",
       "    <tr>\n",
       "      <th>4</th>\n",
       "      <td>1005</td>\n",
       "      <td>Jon</td>\n",
       "      <td>Snow</td>\n",
       "      <td>876|678|3469</td>\n",
       "      <td>25</td>\n",
       "      <td>jon.snow@example.com</td>\n",
       "      <td>10.0</td>\n",
       "      <td>$500</td>\n",
       "      <td>F</td>\n",
       "      <td>7.0</td>\n",
       "      <td>04/04/2020</td>\n",
       "    </tr>\n",
       "  </tbody>\n",
       "</table>\n",
       "</div>"
      ],
      "text/plain": [
       "   CustomerID First_Name Last_Name  Phone_Number  Age  \\\n",
       "0        1001      Frodo   Baggins  123-545-5421   56   \n",
       "1        1002       Abed     Nadir  123/643/9775   46   \n",
       "2        1003     Walter    /White    7066950392   32   \n",
       "3        1004     Dwight   Schrute  123-543-2345   60   \n",
       "4        1005        Jon      Snow  876|678|3469   25   \n",
       "\n",
       "                        Email  Total_Purchases Last_Purchase_Amount  Gender  \\\n",
       "0   frodo.baggins@example.com              5.0              $100.50       M   \n",
       "1      abed.nadir@example.com              3.0                   75       F   \n",
       "2   walter./white@example.com              7.0              $250.00    Male   \n",
       "3  dwight.schrute@example.com              NaN                  NaN  Female   \n",
       "4        jon.snow@example.com             10.0                 $500       F   \n",
       "\n",
       "   Feedback_Score Registration_Date  \n",
       "0             8.0        03/16/2021  \n",
       "1             9.0        01/21/2020  \n",
       "2             6.0        08/13/2021  \n",
       "3             NaN        10/04/2019  \n",
       "4             7.0        04/04/2020  "
      ]
     },
     "execution_count": 2,
     "metadata": {},
     "output_type": "execute_result"
    }
   ],
   "source": [
    "#Your code here\n",
    "df = pd.read_csv('data/Call_List.csv')\n",
    "df.head()"
   ]
  },
  {
   "cell_type": "code",
   "execution_count": null,
   "metadata": {
    "colab": {
     "base_uri": "https://localhost:8080/",
     "height": 241
    },
    "id": "eZjYmv1q8_Z7",
    "outputId": "131645bc-f17c-4876-f5dc-d5d4d9e1ac39"
   },
   "outputs": [],
   "source": [
    "#Your Code here\n"
   ]
  },
  {
   "attachments": {},
   "cell_type": "markdown",
   "metadata": {},
   "source": [
    "### **Question 0.2: Check Dataset Information**\n",
    "\n",
    "- Use the `.info()` method to check the basic information about the DataFrame, including the column names, non-null counts, and data types.\n"
   ]
  },
  {
   "cell_type": "code",
   "execution_count": 3,
   "metadata": {},
   "outputs": [
    {
     "name": "stdout",
     "output_type": "stream",
     "text": [
      "<class 'pandas.core.frame.DataFrame'>\n",
      "RangeIndex: 21 entries, 0 to 20\n",
      "Data columns (total 11 columns):\n",
      " #   Column                Non-Null Count  Dtype  \n",
      "---  ------                --------------  -----  \n",
      " 0   CustomerID            21 non-null     int64  \n",
      " 1   First_Name            21 non-null     object \n",
      " 2   Last_Name             20 non-null     object \n",
      " 3   Phone_Number          19 non-null     object \n",
      " 4   Age                   21 non-null     int64  \n",
      " 5   Email                 21 non-null     object \n",
      " 6   Total_Purchases       17 non-null     float64\n",
      " 7   Last_Purchase_Amount  17 non-null     object \n",
      " 8   Gender                21 non-null     object \n",
      " 9   Feedback_Score        17 non-null     float64\n",
      " 10  Registration_Date     21 non-null     object \n",
      "dtypes: float64(2), int64(2), object(7)\n",
      "memory usage: 1.9+ KB\n"
     ]
    }
   ],
   "source": [
    "#Your code here\n",
    "df.info()"
   ]
  },
  {
   "attachments": {},
   "cell_type": "markdown",
   "metadata": {},
   "source": [
    "### **Question 0.3: Describe the Dataset**\n",
    "\n",
    "- Use the `.describe()` method to generate descriptive statistics that summarize the central tendency, dispersion, and shape of the dataset's distribution.\n"
   ]
  },
  {
   "cell_type": "code",
   "execution_count": 5,
   "metadata": {},
   "outputs": [
    {
     "data": {
      "text/html": [
       "<div>\n",
       "<style scoped>\n",
       "    .dataframe tbody tr th:only-of-type {\n",
       "        vertical-align: middle;\n",
       "    }\n",
       "\n",
       "    .dataframe tbody tr th {\n",
       "        vertical-align: top;\n",
       "    }\n",
       "\n",
       "    .dataframe thead th {\n",
       "        text-align: right;\n",
       "    }\n",
       "</style>\n",
       "<table border=\"1\" class=\"dataframe\">\n",
       "  <thead>\n",
       "    <tr style=\"text-align: right;\">\n",
       "      <th></th>\n",
       "      <th>CustomerID</th>\n",
       "      <th>Age</th>\n",
       "      <th>Total_Purchases</th>\n",
       "      <th>Feedback_Score</th>\n",
       "    </tr>\n",
       "  </thead>\n",
       "  <tbody>\n",
       "    <tr>\n",
       "      <th>count</th>\n",
       "      <td>21.000000</td>\n",
       "      <td>21.000000</td>\n",
       "      <td>17.000000</td>\n",
       "      <td>17.000000</td>\n",
       "    </tr>\n",
       "    <tr>\n",
       "      <th>mean</th>\n",
       "      <td>1010.952381</td>\n",
       "      <td>41.142857</td>\n",
       "      <td>6.705882</td>\n",
       "      <td>7.176471</td>\n",
       "    </tr>\n",
       "    <tr>\n",
       "      <th>std</th>\n",
       "      <td>6.127611</td>\n",
       "      <td>12.865791</td>\n",
       "      <td>4.426690</td>\n",
       "      <td>2.007339</td>\n",
       "    </tr>\n",
       "    <tr>\n",
       "      <th>min</th>\n",
       "      <td>1001.000000</td>\n",
       "      <td>19.000000</td>\n",
       "      <td>0.000000</td>\n",
       "      <td>3.000000</td>\n",
       "    </tr>\n",
       "    <tr>\n",
       "      <th>25%</th>\n",
       "      <td>1006.000000</td>\n",
       "      <td>32.000000</td>\n",
       "      <td>3.000000</td>\n",
       "      <td>6.000000</td>\n",
       "    </tr>\n",
       "    <tr>\n",
       "      <th>50%</th>\n",
       "      <td>1011.000000</td>\n",
       "      <td>41.000000</td>\n",
       "      <td>6.000000</td>\n",
       "      <td>7.000000</td>\n",
       "    </tr>\n",
       "    <tr>\n",
       "      <th>75%</th>\n",
       "      <td>1016.000000</td>\n",
       "      <td>53.000000</td>\n",
       "      <td>10.000000</td>\n",
       "      <td>9.000000</td>\n",
       "    </tr>\n",
       "    <tr>\n",
       "      <th>max</th>\n",
       "      <td>1020.000000</td>\n",
       "      <td>61.000000</td>\n",
       "      <td>15.000000</td>\n",
       "      <td>10.000000</td>\n",
       "    </tr>\n",
       "  </tbody>\n",
       "</table>\n",
       "</div>"
      ],
      "text/plain": [
       "        CustomerID        Age  Total_Purchases  Feedback_Score\n",
       "count    21.000000  21.000000        17.000000       17.000000\n",
       "mean   1010.952381  41.142857         6.705882        7.176471\n",
       "std       6.127611  12.865791         4.426690        2.007339\n",
       "min    1001.000000  19.000000         0.000000        3.000000\n",
       "25%    1006.000000  32.000000         3.000000        6.000000\n",
       "50%    1011.000000  41.000000         6.000000        7.000000\n",
       "75%    1016.000000  53.000000        10.000000        9.000000\n",
       "max    1020.000000  61.000000        15.000000       10.000000"
      ]
     },
     "execution_count": 5,
     "metadata": {},
     "output_type": "execute_result"
    }
   ],
   "source": [
    "#Your code here\n",
    "df.describe()"
   ]
  },
  {
   "attachments": {},
   "cell_type": "markdown",
   "metadata": {},
   "source": [
    "### **Question 0.4: List the Column Names**\n",
    "\n",
    "- Check the column names in the DataFrame. Are there any columns names that seem unnecessary, incomplete, or that need fixing?\n",
    "\n",
    "```python\n",
    "# List column names\n",
    "df.columns"
   ]
  },
  {
   "cell_type": "code",
   "execution_count": 6,
   "metadata": {},
   "outputs": [
    {
     "data": {
      "text/plain": [
       "Index(['CustomerID', 'First_Name', 'Last_Name', 'Phone_Number', 'Age', 'Email',\n",
       "       'Total_Purchases', 'Last_Purchase_Amount', 'Gender', 'Feedback_Score',\n",
       "       'Registration_Date'],\n",
       "      dtype='object')"
      ]
     },
     "execution_count": 6,
     "metadata": {},
     "output_type": "execute_result"
    }
   ],
   "source": [
    "#Your code here\n",
    "df.columns"
   ]
  },
  {
   "cell_type": "code",
   "execution_count": null,
   "metadata": {},
   "outputs": [],
   "source": []
  },
  {
   "cell_type": "code",
   "execution_count": null,
   "metadata": {},
   "outputs": [],
   "source": []
  },
  {
   "cell_type": "code",
   "execution_count": null,
   "metadata": {},
   "outputs": [],
   "source": []
  },
  {
   "cell_type": "code",
   "execution_count": null,
   "metadata": {},
   "outputs": [],
   "source": []
  },
  {
   "cell_type": "code",
   "execution_count": null,
   "metadata": {},
   "outputs": [],
   "source": []
  },
  {
   "cell_type": "code",
   "execution_count": null,
   "metadata": {},
   "outputs": [],
   "source": []
  },
  {
   "cell_type": "code",
   "execution_count": null,
   "metadata": {},
   "outputs": [],
   "source": []
  },
  {
   "cell_type": "code",
   "execution_count": null,
   "metadata": {},
   "outputs": [],
   "source": []
  },
  {
   "cell_type": "code",
   "execution_count": null,
   "metadata": {},
   "outputs": [],
   "source": []
  },
  {
   "attachments": {},
   "cell_type": "markdown",
   "metadata": {},
   "source": [
    "### **Question 0.5: Identify Issues with the Data**\n",
    "\n",
    "- Based on the `.info()` and `.describe()` output, and by looking at the first few rows of the dataset, try to identify potential issues such as:\n",
    "  - Missing values\n",
    "  - Inconsistent data formats\n",
    "  - Incorrect data types\n",
    "  - Any columns that may have typos or unnecessary data"
   ]
  },
  {
   "cell_type": "code",
   "execution_count": null,
   "metadata": {},
   "outputs": [],
   "source": []
  },
  {
   "cell_type": "code",
   "execution_count": null,
   "metadata": {},
   "outputs": [],
   "source": []
  },
  {
   "cell_type": "code",
   "execution_count": null,
   "metadata": {},
   "outputs": [],
   "source": []
  },
  {
   "attachments": {},
   "cell_type": "markdown",
   "metadata": {},
   "source": [
    "### **Question 0.6: Identify the Number of Missing Values**\n",
    "\n",
    "- Use the `.isna().sum()` method to check how many missing values exist in each column of the DataFrame.\n",
    "\n",
    "```python\n",
    "# Check for missing values in each column\n",
    "df.isna().sum()"
   ]
  },
  {
   "cell_type": "code",
   "execution_count": 8,
   "metadata": {},
   "outputs": [
    {
     "data": {
      "text/plain": [
       "CustomerID              0\n",
       "First_Name              0\n",
       "Last_Name               1\n",
       "Phone_Number            2\n",
       "Age                     0\n",
       "Email                   0\n",
       "Total_Purchases         4\n",
       "Last_Purchase_Amount    4\n",
       "Gender                  0\n",
       "Feedback_Score          4\n",
       "Registration_Date       0\n",
       "dtype: int64"
      ]
     },
     "execution_count": 8,
     "metadata": {},
     "output_type": "execute_result"
    }
   ],
   "source": [
    "#Your code here\n",
    "df.isna().sum()"
   ]
  },
  {
   "attachments": {},
   "cell_type": "markdown",
   "metadata": {
    "colab": {
     "base_uri": "https://localhost:8080/",
     "height": 241
    },
    "id": "uLU-q37r3DDB",
    "outputId": "74801382-cbf7-4891-ad70-6e3ad4092894"
   },
   "source": [
    "## **Data Cleaning Tasks**\n",
    "\n",
    "### **Question 1: Remove Duplicate Records**\n",
    "\n",
    "- Remove any duplicate rows from the dataset.\n",
    "\n",
    "**Hint:** You can use the  `.drop_duplicates` method"
   ]
  },
  {
   "cell_type": "code",
   "execution_count": 23,
   "metadata": {
    "colab": {
     "base_uri": "https://localhost:8080/",
     "height": 241
    },
    "id": "z-kBIO5L3DDB",
    "outputId": "96c8f77e-e1de-4a76-9aba-ed02f349e912"
   },
   "outputs": [
    {
     "name": "stdout",
     "output_type": "stream",
     "text": [
      "1\n"
     ]
    }
   ],
   "source": [
    "customer_duplicates = df['CustomerID'].duplicated()\n",
    "print(customer_duplicates.sum())  # This will give the number of duplicate CustomerID values\n"
   ]
  },
  {
   "cell_type": "code",
   "execution_count": 28,
   "metadata": {},
   "outputs": [
    {
     "data": {
      "text/html": [
       "<div>\n",
       "<style scoped>\n",
       "    .dataframe tbody tr th:only-of-type {\n",
       "        vertical-align: middle;\n",
       "    }\n",
       "\n",
       "    .dataframe tbody tr th {\n",
       "        vertical-align: top;\n",
       "    }\n",
       "\n",
       "    .dataframe thead th {\n",
       "        text-align: right;\n",
       "    }\n",
       "</style>\n",
       "<table border=\"1\" class=\"dataframe\">\n",
       "  <thead>\n",
       "    <tr style=\"text-align: right;\">\n",
       "      <th></th>\n",
       "      <th>CustomerID</th>\n",
       "      <th>First_Name</th>\n",
       "      <th>Last_Name</th>\n",
       "      <th>Phone_Number</th>\n",
       "      <th>Age</th>\n",
       "      <th>Email</th>\n",
       "      <th>Total_Purchases</th>\n",
       "      <th>Last_Purchase_Amount</th>\n",
       "      <th>Gender</th>\n",
       "      <th>Feedback_Score</th>\n",
       "      <th>Registration_Date</th>\n",
       "    </tr>\n",
       "  </thead>\n",
       "  <tbody>\n",
       "    <tr>\n",
       "      <th>0</th>\n",
       "      <td>1001</td>\n",
       "      <td>Frodo</td>\n",
       "      <td>Baggins</td>\n",
       "      <td>123-545-5421</td>\n",
       "      <td>56</td>\n",
       "      <td>frodo.baggins@example.com</td>\n",
       "      <td>5.0</td>\n",
       "      <td>$100.50</td>\n",
       "      <td>M</td>\n",
       "      <td>8.0</td>\n",
       "      <td>03/16/2021</td>\n",
       "    </tr>\n",
       "    <tr>\n",
       "      <th>1</th>\n",
       "      <td>1002</td>\n",
       "      <td>Abed</td>\n",
       "      <td>Nadir</td>\n",
       "      <td>123/643/9775</td>\n",
       "      <td>46</td>\n",
       "      <td>abed.nadir@example.com</td>\n",
       "      <td>3.0</td>\n",
       "      <td>75</td>\n",
       "      <td>F</td>\n",
       "      <td>9.0</td>\n",
       "      <td>01/21/2020</td>\n",
       "    </tr>\n",
       "    <tr>\n",
       "      <th>2</th>\n",
       "      <td>1003</td>\n",
       "      <td>Walter</td>\n",
       "      <td>/White</td>\n",
       "      <td>7066950392</td>\n",
       "      <td>32</td>\n",
       "      <td>walter./white@example.com</td>\n",
       "      <td>7.0</td>\n",
       "      <td>$250.00</td>\n",
       "      <td>Male</td>\n",
       "      <td>6.0</td>\n",
       "      <td>08/13/2021</td>\n",
       "    </tr>\n",
       "    <tr>\n",
       "      <th>3</th>\n",
       "      <td>1004</td>\n",
       "      <td>Dwight</td>\n",
       "      <td>Schrute</td>\n",
       "      <td>123-543-2345</td>\n",
       "      <td>60</td>\n",
       "      <td>dwight.schrute@example.com</td>\n",
       "      <td>NaN</td>\n",
       "      <td>NaN</td>\n",
       "      <td>Female</td>\n",
       "      <td>NaN</td>\n",
       "      <td>10/04/2019</td>\n",
       "    </tr>\n",
       "    <tr>\n",
       "      <th>4</th>\n",
       "      <td>1005</td>\n",
       "      <td>Jon</td>\n",
       "      <td>Snow</td>\n",
       "      <td>876|678|3469</td>\n",
       "      <td>25</td>\n",
       "      <td>jon.snow@example.com</td>\n",
       "      <td>10.0</td>\n",
       "      <td>$500</td>\n",
       "      <td>F</td>\n",
       "      <td>7.0</td>\n",
       "      <td>04/04/2020</td>\n",
       "    </tr>\n",
       "  </tbody>\n",
       "</table>\n",
       "</div>"
      ],
      "text/plain": [
       "   CustomerID First_Name Last_Name  Phone_Number  Age  \\\n",
       "0        1001      Frodo   Baggins  123-545-5421   56   \n",
       "1        1002       Abed     Nadir  123/643/9775   46   \n",
       "2        1003     Walter    /White    7066950392   32   \n",
       "3        1004     Dwight   Schrute  123-543-2345   60   \n",
       "4        1005        Jon      Snow  876|678|3469   25   \n",
       "\n",
       "                        Email  Total_Purchases Last_Purchase_Amount  Gender  \\\n",
       "0   frodo.baggins@example.com              5.0              $100.50       M   \n",
       "1      abed.nadir@example.com              3.0                   75       F   \n",
       "2   walter./white@example.com              7.0              $250.00    Male   \n",
       "3  dwight.schrute@example.com              NaN                  NaN  Female   \n",
       "4        jon.snow@example.com             10.0                 $500       F   \n",
       "\n",
       "   Feedback_Score Registration_Date  \n",
       "0             8.0        03/16/2021  \n",
       "1             9.0        01/21/2020  \n",
       "2             6.0        08/13/2021  \n",
       "3             NaN        10/04/2019  \n",
       "4             7.0        04/04/2020  "
      ]
     },
     "execution_count": 28,
     "metadata": {},
     "output_type": "execute_result"
    }
   ],
   "source": [
    "df_1 = df.drop_duplicates(subset=['CustomerID'])\n",
    "df_1.head()"
   ]
  },
  {
   "cell_type": "code",
   "execution_count": null,
   "metadata": {},
   "outputs": [],
   "source": []
  },
  {
   "cell_type": "code",
   "execution_count": null,
   "metadata": {},
   "outputs": [],
   "source": []
  },
  {
   "cell_type": "code",
   "execution_count": null,
   "metadata": {},
   "outputs": [],
   "source": []
  },
  {
   "attachments": {},
   "cell_type": "markdown",
   "metadata": {},
   "source": [
    "### **Question 2: Fix Phone Numbers**\n",
    "\n",
    "- Standardize the `Phone_Number` column by removing special characters (like `-`, `/`, `|`) and ensuring all phone numbers have a uniform format.\n"
   ]
  },
  {
   "cell_type": "code",
   "execution_count": null,
   "metadata": {},
   "outputs": [],
   "source": [
    "#Your code Here"
   ]
  },
  {
   "attachments": {},
   "cell_type": "markdown",
   "metadata": {},
   "source": [
    "### **Question 3: Handle Missing Data**\n",
    "\n",
    "- Identify and handle missing values in the following columns using the functions mentioned below:\n",
    "  - `Email`: Fill missing values with 'unknown'. *(Hint: Use `.fillna()` function)*\n",
    "  - `Registration_Date`: Drop rows where the registration date is missing. *(Hint: Use `.dropna()` function with `subset`)*\n",
    "  - `Total_Purchases`: Fill missing values with 0. *(Hint: Use `.fillna()` function)*\n",
    "  - `Feedback_Score`: Fill missing values with the mean of the column. *(Hint: Use `.fillna()` with `df['Feedback_Score'].mean()`)*\n",
    "  \n",
    "```python\n",
    "# Drop Rows\n",
    "df = df.dropna(subset=['Registration_Date'])\n"
   ]
  },
  {
   "cell_type": "code",
   "execution_count": null,
   "metadata": {},
   "outputs": [],
   "source": [
    "#Your code here"
   ]
  },
  {
   "attachments": {},
   "cell_type": "markdown",
   "metadata": {
    "id": "Jku4kAbOLAeA"
   },
   "source": [
    "### **Question 4: Correct Last Purchase Amount**\n",
    "\n",
    "- In the `Last_Purchase_Amount` column, remove dollar signs (`$`) and commas, and convert the values to numeric.\n"
   ]
  },
  {
   "cell_type": "code",
   "execution_count": null,
   "metadata": {
    "colab": {
     "base_uri": "https://localhost:8080/",
     "height": 241
    },
    "id": "9r0gfWLQLFCB",
    "outputId": "2b3b8394-0744-4024-80a7-8de9ce2ec806"
   },
   "outputs": [],
   "source": [
    "#Your Code here"
   ]
  },
  {
   "attachments": {},
   "cell_type": "markdown",
   "metadata": {
    "id": "K2v2D8D96KeT"
   },
   "source": [
    "### **Question 5: Standardize Gender**\n",
    "\n",
    "- Clean the `Gender` column to ensure consistent values:\n",
    "  - Convert `'M'` or `'Male'` to `'Male'`\n",
    "  - Convert `'F'` or `'Female'` to `'Female'`\n",
    "  - Combine any other values (e.g., `'Other'`, `'Unknown'`) into `'Other'`.\n",
    "  - *(Hint: Use the `.replace()` method to standardize the values)*"
   ]
  },
  {
   "cell_type": "code",
   "execution_count": null,
   "metadata": {
    "colab": {
     "base_uri": "https://localhost:8080/",
     "height": 676
    },
    "id": "zEsOzcYvNHvr",
    "outputId": "ba00d96e-c9f3-41d9-865c-1993943d7238"
   },
   "outputs": [],
   "source": [
    "#Your code here"
   ]
  },
  {
   "attachments": {},
   "cell_type": "markdown",
   "metadata": {
    "id": "zyRdC6Ij71nn"
   },
   "source": [
    "### **Question 6: Fix Typos in Customer Type**\n",
    "\n",
    "- Clean the `Customer_Type` column by correcting typos:\n",
    "  - Replace any occurrence of `'Indvidual'` with `'Individual'`.\n",
    " - *(Hint: Use the `.replace()` method to correct the typos)*"
   ]
  },
  {
   "cell_type": "code",
   "execution_count": null,
   "metadata": {},
   "outputs": [],
   "source": [
    "#Your code"
   ]
  },
  {
   "attachments": {},
   "cell_type": "markdown",
   "metadata": {},
   "source": [
    "### **Question 7: Convert Registration Date to Uniform Format**\n",
    "\n",
    "- Convert the `Registration_Date` column to a uniform date format (`YYYY-MM-DD`):\n",
    "  - *(Hint: Use the `pd.to_datetime()` function to handle different date formats)*\n",
    "  - Handle any parsing errors gracefully using the `errors` parameter.\n"
   ]
  },
  {
   "cell_type": "code",
   "execution_count": null,
   "metadata": {},
   "outputs": [],
   "source": [
    "#Your code here"
   ]
  },
  {
   "cell_type": "code",
   "execution_count": null,
   "metadata": {},
   "outputs": [],
   "source": []
  },
  {
   "cell_type": "code",
   "execution_count": null,
   "metadata": {},
   "outputs": [],
   "source": []
  },
  {
   "cell_type": "code",
   "execution_count": null,
   "metadata": {},
   "outputs": [],
   "source": []
  },
  {
   "cell_type": "code",
   "execution_count": null,
   "metadata": {},
   "outputs": [],
   "source": []
  },
  {
   "cell_type": "code",
   "execution_count": null,
   "metadata": {},
   "outputs": [],
   "source": []
  },
  {
   "cell_type": "code",
   "execution_count": null,
   "metadata": {},
   "outputs": [],
   "source": []
  },
  {
   "cell_type": "code",
   "execution_count": null,
   "metadata": {},
   "outputs": [],
   "source": []
  },
  {
   "cell_type": "code",
   "execution_count": null,
   "metadata": {},
   "outputs": [],
   "source": []
  },
  {
   "cell_type": "code",
   "execution_count": null,
   "metadata": {},
   "outputs": [],
   "source": []
  },
  {
   "cell_type": "code",
   "execution_count": null,
   "metadata": {},
   "outputs": [],
   "source": []
  },
  {
   "cell_type": "code",
   "execution_count": null,
   "metadata": {},
   "outputs": [],
   "source": []
  },
  {
   "cell_type": "code",
   "execution_count": null,
   "metadata": {},
   "outputs": [],
   "source": []
  },
  {
   "cell_type": "code",
   "execution_count": null,
   "metadata": {},
   "outputs": [],
   "source": []
  },
  {
   "cell_type": "code",
   "execution_count": null,
   "metadata": {},
   "outputs": [],
   "source": []
  },
  {
   "cell_type": "code",
   "execution_count": null,
   "metadata": {},
   "outputs": [],
   "source": []
  },
  {
   "cell_type": "code",
   "execution_count": null,
   "metadata": {},
   "outputs": [],
   "source": []
  },
  {
   "cell_type": "code",
   "execution_count": null,
   "metadata": {},
   "outputs": [],
   "source": []
  },
  {
   "cell_type": "code",
   "execution_count": null,
   "metadata": {},
   "outputs": [],
   "source": []
  },
  {
   "cell_type": "code",
   "execution_count": null,
   "metadata": {},
   "outputs": [],
   "source": []
  },
  {
   "cell_type": "code",
   "execution_count": null,
   "metadata": {},
   "outputs": [],
   "source": []
  },
  {
   "cell_type": "code",
   "execution_count": null,
   "metadata": {},
   "outputs": [],
   "source": []
  },
  {
   "cell_type": "code",
   "execution_count": null,
   "metadata": {},
   "outputs": [],
   "source": []
  },
  {
   "attachments": {},
   "cell_type": "markdown",
   "metadata": {},
   "source": [
    "### **Question 8: Create Age Groups**\n",
    "\n",
    "- Create a new column called `Age_Group` that classifies customers into the following groups:\n",
    "  - `Under 18`\n",
    "  - `18-30`\n",
    "  - `31-50`\n",
    "  - `51+`\n",
    "  - *(Hint: Use the `pd.cut(column, bins=[0,18,30,50,np.inf], labels =['Under 18', '18-30','31-50','51+'])` function to bin the ages into groups)*\n",
    "\n"
   ]
  },
  {
   "cell_type": "code",
   "execution_count": null,
   "metadata": {},
   "outputs": [],
   "source": [
    "# Your code here"
   ]
  },
  {
   "attachments": {},
   "cell_type": "markdown",
   "metadata": {},
   "source": [
    "### **Question 9: Filter VIP Customers**\n",
    "\n",
    "- Filter the dataset to display only the customers who are marked as `VIP` and have made more than 5 `Total_Purchases`.\n",
    "  - *(Hint: Use boolean indexing  OR `.loc` with conditions to filter the rows)*\n"
   ]
  },
  {
   "cell_type": "code",
   "execution_count": null,
   "metadata": {},
   "outputs": [],
   "source": [
    "# Your Code here"
   ]
  },
  {
   "attachments": {},
   "cell_type": "markdown",
   "metadata": {},
   "source": [
    "### **Question 10: Create Customer Satisfaction Column(Optional)**\n",
    "\n",
    "- Based on the `Feedback_Score` column, create a new column called `Satisfaction_Level`:\n",
    "  - `'High'` if the score is 8 or above\n",
    "  - `'Medium'` if the score is between 5 and 7\n",
    "  - `'Low'` if the score is below 5\n",
    "  - *(Hint: Use `pd.cut()` or `np.where()` to create the new column)*\n",
    "\n",
    "```python\n",
    "# Create Satisfaction_Level column based on Feedback_Score\n",
    "df['Satisfaction_Level'] = pd.cut(df['Feedback_Score'], bins=[-np.inf, 5, 8, np.inf], labels=['Low', 'Medium', 'High'])"
   ]
  },
  {
   "cell_type": "code",
   "execution_count": null,
   "metadata": {},
   "outputs": [],
   "source": [
    "#Your code here"
   ]
  },
  {
   "attachments": {},
   "cell_type": "markdown",
   "metadata": {},
   "source": [
    "### **Question 11: Calculate Total Revenue per Customer**\n",
    "\n",
    "- Create a new column called `Total_Revenue` by multiplying `Total_Purchases` with `Last_Purchase_Amount` for each customer.\n",
    "  - *(Hint: Make sure to convert `Last_Purchase_Amount` to numeric before performing the calculation)*\n",
    "  - *(Hint: You can use `pd.to_numeric()`)*\n",
    "\n"
   ]
  },
  {
   "cell_type": "code",
   "execution_count": null,
   "metadata": {},
   "outputs": [],
   "source": [
    "# Your Code here"
   ]
  },
  {
   "attachments": {},
   "cell_type": "markdown",
   "metadata": {},
   "source": [
    "### **Question 12: Find Average Age of High-Satisfaction Customers**\n",
    "\n",
    "- Calculate the average age of customers who have a `Satisfaction_Level` of `'High'`.\n",
    "  - *(Hint: Use boolean indexing to filter rows based on the condition and then calculate the average)*\n",
    "\n"
   ]
  },
  {
   "cell_type": "code",
   "execution_count": null,
   "metadata": {},
   "outputs": [],
   "source": [
    "# Your code here"
   ]
  },
  {
   "attachments": {},
   "cell_type": "markdown",
   "metadata": {},
   "source": [
    "### **Question 13: Plot Age Distribution**\n",
    "\n",
    "- Create a histogram or KDE plot to visualize the distribution of customer ages.\n",
    "  - *(Hint: Use `sns.histplot()` or `sns.kdeplot()` from Seaborn to create the plot)*\n",
    "\n",
    "```python\n",
    "sns.histplot(column, kde=True)\n"
   ]
  },
  {
   "cell_type": "code",
   "execution_count": null,
   "metadata": {},
   "outputs": [],
   "source": [
    "#Your code here"
   ]
  },
  {
   "attachments": {},
   "cell_type": "markdown",
   "metadata": {},
   "source": [
    "### **Question 14: Total Purchases by Customer Type**\n",
    "\n",
    "- Create a bar chart that shows the average `Total_Purchases` for each `Customer_Type`.\n",
    "  - *(Hint: Use `sns.barplot()` with `estimator='mean'` from Seaborn to create the bar chart)*\n",
    "\n"
   ]
  },
  {
   "cell_type": "code",
   "execution_count": null,
   "metadata": {},
   "outputs": [],
   "source": [
    "#Your code here"
   ]
  },
  {
   "attachments": {},
   "cell_type": "markdown",
   "metadata": {},
   "source": [
    "### **Question 15: Scatter Plot of Age vs. Total Purchases**\n",
    "\n",
    "- Create a scatter plot to visualize the relationship between `Age` and `Total_Purchases`.\n",
    "  - *(Hint: Use `sns.scatterplot()` from Seaborn to create the scatter plot)*\n",
    "\n"
   ]
  },
  {
   "cell_type": "code",
   "execution_count": null,
   "metadata": {},
   "outputs": [],
   "source": [
    "# Your Code here"
   ]
  },
  {
   "attachments": {},
   "cell_type": "markdown",
   "metadata": {},
   "source": [
    "### **Question 16: Total Revenue by Customer Type**\n",
    "\n",
    "- Create a bar chart to compare the `Total_Revenue` for each `Customer_Type`.\n",
    "  - *(Hint: Use `sns.barplot()` from Seaborn to create the bar chart)*\n"
   ]
  },
  {
   "cell_type": "code",
   "execution_count": null,
   "metadata": {},
   "outputs": [],
   "source": [
    "# your code here"
   ]
  },
  {
   "attachments": {},
   "cell_type": "markdown",
   "metadata": {},
   "source": [
    "### **Question 17: Trend of Average Feedback Score Over Time**\n",
    "\n",
    "- Using the `Registration_Date`, create a line plot to show how the average `Feedback_Score` has changed over time.\n",
    "  - *(Hint: Use `sns.relplot()` with `kind=\"line\"` from Seaborn and group by `Registration_Date`, by taking mean of `Feedback_SCORE`)*\n",
    "\n"
   ]
  },
  {
   "cell_type": "code",
   "execution_count": null,
   "metadata": {},
   "outputs": [],
   "source": [
    "# Your Code here        "
   ]
  },
  {
   "attachments": {},
   "cell_type": "markdown",
   "metadata": {},
   "source": [
    "### **Question: Clean the Email Column(Optional)**\n",
    "\n",
    "- The `Email` column may contain invalid formats, such as:\n",
    "  - Multiple dots in a row (e.g., `john..doe@example.com`).\n",
    "  - Missing domain parts (e.g., `john.doe@`).\n",
    "  - Non-standard characters.\n",
    "- Clean the `Email` column to ensure:\n",
    "  - No consecutive dots (`..`).\n",
    "  - Proper format with `@` and a domain name.\n",
    "  - Remove invalid emails or replace them with `NaN`.\n",
    "  - *(Hint: Use string methods like `.str.replace()` and a regular expression to check email format)*\n",
    "\n"
   ]
  },
  {
   "cell_type": "code",
   "execution_count": null,
   "metadata": {},
   "outputs": [],
   "source": [
    "# Your code here"
   ]
  },
  {
   "attachments": {},
   "cell_type": "markdown",
   "metadata": {},
   "source": [
    "## **Project Summary**\n",
    "\n",
    "### 1. **Initial Data Exploration**:\n",
    "   - Load the dataset and explore its structure.\n",
    "   - Use functions like `.info()`, `.describe()`, and `.head()` to get insights into the data.\n",
    "   - Identify potential issues with missing values, inconsistent formats, and incorrect data types.\n",
    "\n",
    "### 2. **Data Cleaning Tasks**:\n",
    "   - Remove duplicate records to ensure data accuracy.\n",
    "   - Fix phone numbers by standardizing their format.\n",
    "   - Handle missing data by filling in appropriate values or dropping rows.\n",
    "   - Standardize columns like `Gender` and `Customer_Type` to ensure consistency.\n",
    "   - Convert the `Registration_Date` column into a uniform date format.\n",
    "   - Create age groups by binning the `Age` column into predefined categories.\n",
    "\n",
    "### 3. **Data Analysis**:\n",
    "   - Calculate total revenue per customer by multiplying `Total_Purchases` with `Last_Purchase_Amount`.\n",
    "   - Filter VIP customers who have made more than 5 purchases.\n",
    "   - Create a new `Satisfaction_Level` column based on the `Feedback_Score` (Low, Medium, High).\n",
    "   - Find the average age of customers with a high satisfaction level.\n",
    "\n",
    "### 4. **Data Visualization**:\n",
    "   - Use Seaborn to create various plots:\n",
    "     - **Histogram/KDE** to visualize the distribution of customer ages.\n",
    "     - **Bar plot** to compare total purchases and revenue across customer types.\n",
    "     - **Scatter plot** to analyze the relationship between age and total purchases.\n",
    "     - **Line plot** (using `relplot`) to show the trend of average feedback scores over time.\n",
    "\n",
    "---\n",
    "\n",
    "This project covers a comprehensive range of **data cleaning**, **analysis**, and **visualization** tasks, giving you hands-on experience with real-world data handling and reporting."
   ]
  }
 ],
 "metadata": {
  "anaconda-cloud": {},
  "colab": {
   "provenance": []
  },
  "kernelspec": {
   "display_name": "Python 3 (ipykernel)",
   "language": "python",
   "name": "python3"
  },
  "language_info": {
   "codemirror_mode": {
    "name": "ipython",
    "version": 3
   },
   "file_extension": ".py",
   "mimetype": "text/x-python",
   "name": "python",
   "nbconvert_exporter": "python",
   "pygments_lexer": "ipython3",
   "version": "3.13.0"
  },
  "vscode": {
   "interpreter": {
    "hash": "81794d4967e6c3204c66dcd87b604927b115b27c00565d3d43f05ba2f3a2cb0d"
   }
  }
 },
 "nbformat": 4,
 "nbformat_minor": 4
}
